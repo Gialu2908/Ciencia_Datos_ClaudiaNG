{
  "nbformat": 4,
  "nbformat_minor": 0,
  "metadata": {
    "colab": {
      "name": "WnB demo.ipynb",
      "provenance": [],
      "collapsed_sections": [],
      "authorship_tag": "ABX9TyP0CFyLhcGMfY+shyqnrSux",
      "include_colab_link": true
    },
    "kernelspec": {
      "name": "python3",
      "display_name": "Python 3"
    },
    "language_info": {
      "name": "python"
    }
  },
  "cells": [
    {
      "cell_type": "markdown",
      "metadata": {
        "id": "view-in-github",
        "colab_type": "text"
      },
      "source": [
        "<a href=\"https://colab.research.google.com/github/claudian37/DS_Portfolio/blob/master/WnB_demo.ipynb\" target=\"_parent\"><img src=\"https://colab.research.google.com/assets/colab-badge.svg\" alt=\"Open In Colab\"/></a>"
      ]
    },
    {
      "cell_type": "markdown",
      "metadata": {
        "id": "9ane5RqQjfjf"
      },
      "source": [
        "# Install and initialize Weights and Biases\n",
        "\n",
        "Be sure to create an account on [W&B](https://wandb.ai/site) first. "
      ]
    },
    {
      "cell_type": "code",
      "metadata": {
        "colab": {
          "base_uri": "https://localhost:8080/"
        },
        "id": "4qcUHjCmi0V_",
        "outputId": "5b713c6c-4ae9-4eb9-ce0c-b28d20874f06"
      },
      "source": [
        "!pip install wandb"
      ],
      "execution_count": 1,
      "outputs": [
        {
          "output_type": "stream",
          "name": "stdout",
          "text": [
            "Requirement already satisfied: wandb in /usr/local/lib/python3.7/dist-packages (0.12.4)\n",
            "Requirement already satisfied: docker-pycreds>=0.4.0 in /usr/local/lib/python3.7/dist-packages (from wandb) (0.4.0)\n",
            "Requirement already satisfied: promise<3,>=2.0 in /usr/local/lib/python3.7/dist-packages (from wandb) (2.3)\n",
            "Requirement already satisfied: Click!=8.0.0,>=7.0 in /usr/local/lib/python3.7/dist-packages (from wandb) (7.1.2)\n",
            "Requirement already satisfied: GitPython>=1.0.0 in /usr/local/lib/python3.7/dist-packages (from wandb) (3.1.24)\n",
            "Requirement already satisfied: psutil>=5.0.0 in /usr/local/lib/python3.7/dist-packages (from wandb) (5.4.8)\n",
            "Requirement already satisfied: yaspin>=1.0.0 in /usr/local/lib/python3.7/dist-packages (from wandb) (2.1.0)\n",
            "Requirement already satisfied: python-dateutil>=2.6.1 in /usr/local/lib/python3.7/dist-packages (from wandb) (2.8.2)\n",
            "Requirement already satisfied: sentry-sdk>=1.0.0 in /usr/local/lib/python3.7/dist-packages (from wandb) (1.4.3)\n",
            "Requirement already satisfied: protobuf>=3.12.0 in /usr/local/lib/python3.7/dist-packages (from wandb) (3.17.3)\n",
            "Requirement already satisfied: configparser>=3.8.1 in /usr/local/lib/python3.7/dist-packages (from wandb) (5.0.2)\n",
            "Requirement already satisfied: PyYAML in /usr/local/lib/python3.7/dist-packages (from wandb) (3.13)\n",
            "Requirement already satisfied: pathtools in /usr/local/lib/python3.7/dist-packages (from wandb) (0.1.2)\n",
            "Requirement already satisfied: six>=1.13.0 in /usr/local/lib/python3.7/dist-packages (from wandb) (1.15.0)\n",
            "Requirement already satisfied: shortuuid>=0.5.0 in /usr/local/lib/python3.7/dist-packages (from wandb) (1.0.1)\n",
            "Requirement already satisfied: subprocess32>=3.5.3 in /usr/local/lib/python3.7/dist-packages (from wandb) (3.5.4)\n",
            "Requirement already satisfied: requests<3,>=2.0.0 in /usr/local/lib/python3.7/dist-packages (from wandb) (2.23.0)\n",
            "Requirement already satisfied: gitdb<5,>=4.0.1 in /usr/local/lib/python3.7/dist-packages (from GitPython>=1.0.0->wandb) (4.0.7)\n",
            "Requirement already satisfied: typing-extensions>=3.7.4.3 in /usr/local/lib/python3.7/dist-packages (from GitPython>=1.0.0->wandb) (3.7.4.3)\n",
            "Requirement already satisfied: smmap<5,>=3.0.1 in /usr/local/lib/python3.7/dist-packages (from gitdb<5,>=4.0.1->GitPython>=1.0.0->wandb) (4.0.0)\n",
            "Requirement already satisfied: idna<3,>=2.5 in /usr/local/lib/python3.7/dist-packages (from requests<3,>=2.0.0->wandb) (2.10)\n",
            "Requirement already satisfied: urllib3!=1.25.0,!=1.25.1,<1.26,>=1.21.1 in /usr/local/lib/python3.7/dist-packages (from requests<3,>=2.0.0->wandb) (1.24.3)\n",
            "Requirement already satisfied: certifi>=2017.4.17 in /usr/local/lib/python3.7/dist-packages (from requests<3,>=2.0.0->wandb) (2021.5.30)\n",
            "Requirement already satisfied: chardet<4,>=3.0.2 in /usr/local/lib/python3.7/dist-packages (from requests<3,>=2.0.0->wandb) (3.0.4)\n",
            "Requirement already satisfied: termcolor<2.0.0,>=1.1.0 in /usr/local/lib/python3.7/dist-packages (from yaspin>=1.0.0->wandb) (1.1.0)\n"
          ]
        }
      ]
    },
    {
      "cell_type": "code",
      "metadata": {
        "colab": {
          "base_uri": "https://localhost:8080/"
        },
        "id": "FF6rYQtAi65q",
        "outputId": "217fb5cf-4340-4e55-fa42-2b21d3533f12"
      },
      "source": [
        "import wandb\n",
        "wandb.login()"
      ],
      "execution_count": 2,
      "outputs": [
        {
          "output_type": "stream",
          "name": "stderr",
          "text": [
            "\u001b[34m\u001b[1mwandb\u001b[0m: Currently logged in as: \u001b[33mclau\u001b[0m (use `wandb login --relogin` to force relogin)\n"
          ]
        },
        {
          "output_type": "execute_result",
          "data": {
            "text/plain": [
              "True"
            ]
          },
          "metadata": {},
          "execution_count": 2
        }
      ]
    },
    {
      "cell_type": "markdown",
      "metadata": {
        "id": "wYstKaB6mRjS"
      },
      "source": [
        "# Import Data\n",
        "For simplicity, I used the [California housing dataset from scikit-learn](https://scikit-learn.org/stable/modules/generated/sklearn.datasets.fetch_california_housing.html#sklearn.datasets.fetch_california_housing) to build a regression model. The dataset contains 8 features and the target is the value of the house in units of 100,000."
      ]
    },
    {
      "cell_type": "code",
      "metadata": {
        "id": "le2ME_iBjKHS"
      },
      "source": [
        "from lightgbm import LGBMRegressor\n",
        "import pandas as pd\n",
        "from sklearn.datasets import fetch_california_housing\n",
        "from sklearn.metrics import mean_absolute_error, mean_squared_error\n",
        "from sklearn.model_selection import train_test_split"
      ],
      "execution_count": 3,
      "outputs": []
    },
    {
      "cell_type": "code",
      "metadata": {
        "id": "uO5yvrjWj7QE"
      },
      "source": [
        "dataset = fetch_california_housing()\n",
        "X = pd.DataFrame(dataset['data'], columns=dataset['feature_names'])\n",
        "y = pd.DataFrame(dataset['target'], columns=['house_value'])"
      ],
      "execution_count": 4,
      "outputs": []
    },
    {
      "cell_type": "code",
      "metadata": {
        "colab": {
          "base_uri": "https://localhost:8080/",
          "height": 221
        },
        "id": "SGfdgwhLkKel",
        "outputId": "ed81f294-8638-4026-c467-c4672f338389"
      },
      "source": [
        "print(X.shape)\n",
        "X.head()"
      ],
      "execution_count": 5,
      "outputs": [
        {
          "output_type": "stream",
          "name": "stdout",
          "text": [
            "(20640, 8)\n"
          ]
        },
        {
          "output_type": "execute_result",
          "data": {
            "text/html": [
              "<div>\n",
              "<style scoped>\n",
              "    .dataframe tbody tr th:only-of-type {\n",
              "        vertical-align: middle;\n",
              "    }\n",
              "\n",
              "    .dataframe tbody tr th {\n",
              "        vertical-align: top;\n",
              "    }\n",
              "\n",
              "    .dataframe thead th {\n",
              "        text-align: right;\n",
              "    }\n",
              "</style>\n",
              "<table border=\"1\" class=\"dataframe\">\n",
              "  <thead>\n",
              "    <tr style=\"text-align: right;\">\n",
              "      <th></th>\n",
              "      <th>MedInc</th>\n",
              "      <th>HouseAge</th>\n",
              "      <th>AveRooms</th>\n",
              "      <th>AveBedrms</th>\n",
              "      <th>Population</th>\n",
              "      <th>AveOccup</th>\n",
              "      <th>Latitude</th>\n",
              "      <th>Longitude</th>\n",
              "    </tr>\n",
              "  </thead>\n",
              "  <tbody>\n",
              "    <tr>\n",
              "      <th>0</th>\n",
              "      <td>8.3252</td>\n",
              "      <td>41.0</td>\n",
              "      <td>6.984127</td>\n",
              "      <td>1.023810</td>\n",
              "      <td>322.0</td>\n",
              "      <td>2.555556</td>\n",
              "      <td>37.88</td>\n",
              "      <td>-122.23</td>\n",
              "    </tr>\n",
              "    <tr>\n",
              "      <th>1</th>\n",
              "      <td>8.3014</td>\n",
              "      <td>21.0</td>\n",
              "      <td>6.238137</td>\n",
              "      <td>0.971880</td>\n",
              "      <td>2401.0</td>\n",
              "      <td>2.109842</td>\n",
              "      <td>37.86</td>\n",
              "      <td>-122.22</td>\n",
              "    </tr>\n",
              "    <tr>\n",
              "      <th>2</th>\n",
              "      <td>7.2574</td>\n",
              "      <td>52.0</td>\n",
              "      <td>8.288136</td>\n",
              "      <td>1.073446</td>\n",
              "      <td>496.0</td>\n",
              "      <td>2.802260</td>\n",
              "      <td>37.85</td>\n",
              "      <td>-122.24</td>\n",
              "    </tr>\n",
              "    <tr>\n",
              "      <th>3</th>\n",
              "      <td>5.6431</td>\n",
              "      <td>52.0</td>\n",
              "      <td>5.817352</td>\n",
              "      <td>1.073059</td>\n",
              "      <td>558.0</td>\n",
              "      <td>2.547945</td>\n",
              "      <td>37.85</td>\n",
              "      <td>-122.25</td>\n",
              "    </tr>\n",
              "    <tr>\n",
              "      <th>4</th>\n",
              "      <td>3.8462</td>\n",
              "      <td>52.0</td>\n",
              "      <td>6.281853</td>\n",
              "      <td>1.081081</td>\n",
              "      <td>565.0</td>\n",
              "      <td>2.181467</td>\n",
              "      <td>37.85</td>\n",
              "      <td>-122.25</td>\n",
              "    </tr>\n",
              "  </tbody>\n",
              "</table>\n",
              "</div>"
            ],
            "text/plain": [
              "   MedInc  HouseAge  AveRooms  ...  AveOccup  Latitude  Longitude\n",
              "0  8.3252      41.0  6.984127  ...  2.555556     37.88    -122.23\n",
              "1  8.3014      21.0  6.238137  ...  2.109842     37.86    -122.22\n",
              "2  7.2574      52.0  8.288136  ...  2.802260     37.85    -122.24\n",
              "3  5.6431      52.0  5.817352  ...  2.547945     37.85    -122.25\n",
              "4  3.8462      52.0  6.281853  ...  2.181467     37.85    -122.25\n",
              "\n",
              "[5 rows x 8 columns]"
            ]
          },
          "metadata": {},
          "execution_count": 5
        }
      ]
    },
    {
      "cell_type": "code",
      "metadata": {
        "colab": {
          "base_uri": "https://localhost:8080/",
          "height": 221
        },
        "id": "kZWrtHZblmXw",
        "outputId": "a3e2efd0-04f5-4d80-d097-93b67fafe375"
      },
      "source": [
        "print(y.shape)\n",
        "y.head()"
      ],
      "execution_count": 6,
      "outputs": [
        {
          "output_type": "stream",
          "name": "stdout",
          "text": [
            "(20640, 1)\n"
          ]
        },
        {
          "output_type": "execute_result",
          "data": {
            "text/html": [
              "<div>\n",
              "<style scoped>\n",
              "    .dataframe tbody tr th:only-of-type {\n",
              "        vertical-align: middle;\n",
              "    }\n",
              "\n",
              "    .dataframe tbody tr th {\n",
              "        vertical-align: top;\n",
              "    }\n",
              "\n",
              "    .dataframe thead th {\n",
              "        text-align: right;\n",
              "    }\n",
              "</style>\n",
              "<table border=\"1\" class=\"dataframe\">\n",
              "  <thead>\n",
              "    <tr style=\"text-align: right;\">\n",
              "      <th></th>\n",
              "      <th>house_value</th>\n",
              "    </tr>\n",
              "  </thead>\n",
              "  <tbody>\n",
              "    <tr>\n",
              "      <th>0</th>\n",
              "      <td>4.526</td>\n",
              "    </tr>\n",
              "    <tr>\n",
              "      <th>1</th>\n",
              "      <td>3.585</td>\n",
              "    </tr>\n",
              "    <tr>\n",
              "      <th>2</th>\n",
              "      <td>3.521</td>\n",
              "    </tr>\n",
              "    <tr>\n",
              "      <th>3</th>\n",
              "      <td>3.413</td>\n",
              "    </tr>\n",
              "    <tr>\n",
              "      <th>4</th>\n",
              "      <td>3.422</td>\n",
              "    </tr>\n",
              "  </tbody>\n",
              "</table>\n",
              "</div>"
            ],
            "text/plain": [
              "   house_value\n",
              "0        4.526\n",
              "1        3.585\n",
              "2        3.521\n",
              "3        3.413\n",
              "4        3.422"
            ]
          },
          "metadata": {},
          "execution_count": 6
        }
      ]
    },
    {
      "cell_type": "code",
      "metadata": {
        "colab": {
          "base_uri": "https://localhost:8080/"
        },
        "id": "v62JD9PFvPZd",
        "outputId": "7b410095-95e7-4240-9eb4-77ed75aa8c19"
      },
      "source": [
        "X_train, X_test, y_train, y_test = train_test_split(\n",
        "    X.values, \n",
        "    y.values.ravel(), \n",
        "    test_size=0.25, \n",
        "    random_state=123\n",
        ")\n",
        "\n",
        "baseline_model = LGBMRegressor()\n",
        "baseline_model.fit(X_train, y_train)\n",
        "y_preds_baseline = baseline_model.predict(X_test)\n",
        "\n",
        "mae_baseline = mean_absolute_error(y_test, y_preds_baseline)\n",
        "mse_baseline = mean_squared_error(y_test, y_preds_baseline)\n",
        "\n",
        "print(f\"LGB baseline model performance: \\n MAE Score: {round(mae_baseline, 4)}, MSE Score: {round(mse_baseline, 4)}\")"
      ],
      "execution_count": 7,
      "outputs": [
        {
          "output_type": "stream",
          "name": "stdout",
          "text": [
            "LGB baseline model performance: \n",
            " MAE Score: 0.3059, MSE Score: 0.2077\n"
          ]
        }
      ]
    },
    {
      "cell_type": "markdown",
      "metadata": {
        "id": "3ii4P2LbpU3z"
      },
      "source": [
        "## Define model training function \n",
        "This function will contain several components, including:\n",
        "- **Set Default configurations:** specify default configurations to start with that will be overwritten during the sweep.\n",
        "- **Start W&B:** Initialize a newwandb run.\n",
        "- **Load and split the dataset:** remember to add a seed to your train_test_split function for consistent splits across different runs.\n",
        "- **Train Model:** fit your model on the train set and use the trained model to predict on the test set.\n",
        "- **Evaluate model performance:** evaluate the predictions made by trained model. In this case, I chose to use both mean_absolute_error and mean_squared_error as metrics for the regression model. \n",
        "- **Log model performance metrics:** record the metrics to W&B using wandb.log()."
      ]
    },
    {
      "cell_type": "code",
      "metadata": {
        "id": "8mOcwflkl_eP"
      },
      "source": [
        "def train_model():\n",
        "  # Set default configurations (Defaults will be overwritten during sweep)\n",
        "  config_defaults = {\n",
        "      'max_depth': 3, \n",
        "      'num_leaves': 15,\n",
        "      'n_estimators': 50\n",
        "  }\n",
        "\n",
        "  # Start W&B\n",
        "  wandb.init(config=config_defaults)\n",
        "  config = wandb.config\n",
        "\n",
        "  # Load and split data\n",
        "  dataset = fetch_california_housing()\n",
        "  X = dataset['data']\n",
        "  y = dataset['target']\n",
        "  X_train, X_test, y_train, y_test = train_test_split(\n",
        "      X, \n",
        "      y, \n",
        "      test_size=0.25, \n",
        "      random_state=123\n",
        "  )\n",
        "\n",
        "  # Fit regression model on train set\n",
        "  model = LGBMRegressor(\n",
        "      max_depth=config.max_depth, \n",
        "      num_leaves=config.num_leaves,\n",
        "      n_estimators=config.n_estimators\n",
        "  )\n",
        "  model.fit(X_train, y_train)\n",
        "\n",
        "  # Predict on test set\n",
        "  y_preds = model.predict(X_test)\n",
        "  \n",
        "  # Evaluate predictions\n",
        "  mae_score = mean_absolute_error(y_test, y_preds)\n",
        "  mse_score = mean_squared_error(y_test, y_preds)\n",
        "  print(f\"MAE: {round(mae_score, 4)}, MSE: {round(mse_score, 4)}\")\n",
        "\n",
        "  # Log model performance metrics to W&B\n",
        "  wandb.log({\"mae\": mae_score, \"mse\": mse_score})\n"
      ],
      "execution_count": 16,
      "outputs": []
    },
    {
      "cell_type": "markdown",
      "metadata": {
        "id": "2dFQqwBMpfbJ"
      },
      "source": [
        "## Define sweep configurations\n",
        "Some parameters to define here include:\n",
        "- **Method**: specify your search strategy, examples include Bayesian, grid and random searches. \n",
        "- **Metric**: define the name and goal (maximize or minimize) of the metric to use as the metric to optimize on. For example, I chose mean squared error (MSE) as my metric and the goal was to minimize this metric. \n",
        "- **Parameters**: define the hyperparameters to tune stored as the keys of a dictionary and their corresponding values to search over in the form of a list stored as the values of this dictionary.\n",
        "For a complete list of sweep configurations, see this [link](https://docs.wandb.ai/guides/sweeps/configuration#search-strategy)."
      ]
    },
    {
      "cell_type": "code",
      "metadata": {
        "id": "Hm_AHay8np26"
      },
      "source": [
        "sweep_configs = {\n",
        "    \"method\": \"grid\",\n",
        "    \"metric\": {\n",
        "        \"name\": \"mse\",\n",
        "        \"goal\": \"minimize\"\n",
        "    },\n",
        "    \"parameters\": {\n",
        "        \"max_depth\": {\n",
        "            \"values\": [4, 6, 8, 10]\n",
        "        },\n",
        "        \"num_leaves\": {\n",
        "            \"values\": [15, 23, 31, 63, 100]\n",
        "        },\n",
        "        \"n_estimators\": {\n",
        "            \"values\": [100, 200, 500, 800, 1000]\n",
        "        }\n",
        "    }\n",
        "}"
      ],
      "execution_count": 17,
      "outputs": []
    },
    {
      "cell_type": "code",
      "metadata": {
        "colab": {
          "base_uri": "https://localhost:8080/"
        },
        "id": "o5z7H6BCq_Lh",
        "outputId": "47f14ca0-f88f-4373-f426-77cfb53d393f"
      },
      "source": [
        "sweep_id = wandb.sweep(sweep_configs, project=\"california-housing-sweeps\")"
      ],
      "execution_count": 18,
      "outputs": [
        {
          "output_type": "stream",
          "name": "stdout",
          "text": [
            "Create sweep with ID: zhlex3q9\n",
            "Sweep URL: https://wandb.ai/clau/california-housing-sweeps/sweeps/zhlex3q9\n"
          ]
        }
      ]
    },
    {
      "cell_type": "code",
      "metadata": {
        "colab": {
          "base_uri": "https://localhost:8080/",
          "height": 1000
        },
        "id": "tMo0L5forHqv",
        "outputId": "810b12b3-08a3-48a9-c7b6-a4a19d35ffee"
      },
      "source": [
        "wandb.agent(sweep_id=sweep_id, function=train_model, count=30)"
      ],
      "execution_count": 20,
      "outputs": [
        {
          "output_type": "stream",
          "name": "stderr",
          "text": [
            "\u001b[34m\u001b[1mwandb\u001b[0m: Agent Starting Run: xhz4z3vj with config:\n",
            "\u001b[34m\u001b[1mwandb\u001b[0m: \tmax_depth: 4\n",
            "\u001b[34m\u001b[1mwandb\u001b[0m: \tn_estimators: 100\n",
            "\u001b[34m\u001b[1mwandb\u001b[0m: \tnum_leaves: 23\n"
          ]
        },
        {
          "output_type": "display_data",
          "data": {
            "text/html": [
              "\n",
              "                    Syncing run <strong><a href=\"https://wandb.ai/clau/california-housing-sweeps/runs/xhz4z3vj\" target=\"_blank\">denim-sweep-2</a></strong> to <a href=\"https://wandb.ai/clau/california-housing-sweeps\" target=\"_blank\">Weights & Biases</a> (<a href=\"https://docs.wandb.com/integrations/jupyter.html\" target=\"_blank\">docs</a>).<br/>\n",
              "Sweep page: <a href=\"https://wandb.ai/clau/california-housing-sweeps/sweeps/zhlex3q9\" target=\"_blank\">https://wandb.ai/clau/california-housing-sweeps/sweeps/zhlex3q9</a><br/>\n",
              "\n",
              "                "
            ],
            "text/plain": [
              "<IPython.core.display.HTML object>"
            ]
          },
          "metadata": {}
        },
        {
          "output_type": "stream",
          "name": "stdout",
          "text": [
            "MAE: 0.3404, MSE: 0.2445\n"
          ]
        },
        {
          "output_type": "display_data",
          "data": {
            "text/html": [
              "<br/>Waiting for W&B process to finish, PID 10725... <strong style=\"color:green\">(success).</strong>"
            ],
            "text/plain": [
              "<IPython.core.display.HTML object>"
            ]
          },
          "metadata": {}
        },
        {
          "output_type": "display_data",
          "data": {
            "application/vnd.jupyter.widget-view+json": {
              "model_id": "d9455b523c824c52a0217dce5ed08ba7",
              "version_minor": 0,
              "version_major": 2
            },
            "text/plain": [
              "VBox(children=(Label(value=' 0.00MB of 0.00MB uploaded (0.00MB deduped)\\r'), FloatProgress(value=1.0, max=1.0)…"
            ]
          },
          "metadata": {}
        },
        {
          "output_type": "display_data",
          "data": {
            "text/html": [
              "<style>\n",
              "    table.wandb td:nth-child(1) { padding: 0 10px; text-align: right }\n",
              "    .wandb-row { display: flex; flex-direction: row; flex-wrap: wrap; width: 100% }\n",
              "    .wandb-col { display: flex; flex-direction: column; flex-basis: 100%; flex: 1; padding: 10px; }\n",
              "    </style>\n",
              "<div class=\"wandb-row\"><div class=\"wandb-col\">\n",
              "<h3>Run history:</h3><br/><table class=\"wandb\"><tr><td>mae</td><td>▁</td></tr><tr><td>mse</td><td>▁</td></tr></table><br/></div><div class=\"wandb-col\">\n",
              "<h3>Run summary:</h3><br/><table class=\"wandb\"><tr><td>mae</td><td>0.34042</td></tr><tr><td>mse</td><td>0.24447</td></tr></table>\n",
              "</div></div>\n",
              "Synced 5 W&B file(s), 0 media file(s), 0 artifact file(s) and 0 other file(s)\n",
              "<br/>Synced <strong style=\"color:#cdcd00\">denim-sweep-2</strong>: <a href=\"https://wandb.ai/clau/california-housing-sweeps/runs/xhz4z3vj\" target=\"_blank\">https://wandb.ai/clau/california-housing-sweeps/runs/xhz4z3vj</a><br/>\n",
              "Find logs at: <code>./wandb/run-20211013_232914-xhz4z3vj/logs</code><br/>\n"
            ],
            "text/plain": [
              "<IPython.core.display.HTML object>"
            ]
          },
          "metadata": {}
        },
        {
          "output_type": "stream",
          "name": "stderr",
          "text": [
            "\u001b[34m\u001b[1mwandb\u001b[0m: Agent Starting Run: r5mllz0a with config:\n",
            "\u001b[34m\u001b[1mwandb\u001b[0m: \tmax_depth: 4\n",
            "\u001b[34m\u001b[1mwandb\u001b[0m: \tn_estimators: 100\n",
            "\u001b[34m\u001b[1mwandb\u001b[0m: \tnum_leaves: 31\n"
          ]
        },
        {
          "output_type": "display_data",
          "data": {
            "text/html": [
              "\n",
              "                    Syncing run <strong><a href=\"https://wandb.ai/clau/california-housing-sweeps/runs/r5mllz0a\" target=\"_blank\">dashing-sweep-3</a></strong> to <a href=\"https://wandb.ai/clau/california-housing-sweeps\" target=\"_blank\">Weights & Biases</a> (<a href=\"https://docs.wandb.com/integrations/jupyter.html\" target=\"_blank\">docs</a>).<br/>\n",
              "Sweep page: <a href=\"https://wandb.ai/clau/california-housing-sweeps/sweeps/zhlex3q9\" target=\"_blank\">https://wandb.ai/clau/california-housing-sweeps/sweeps/zhlex3q9</a><br/>\n",
              "\n",
              "                "
            ],
            "text/plain": [
              "<IPython.core.display.HTML object>"
            ]
          },
          "metadata": {}
        },
        {
          "output_type": "stream",
          "name": "stdout",
          "text": [
            "MAE: 0.3404, MSE: 0.2445\n"
          ]
        },
        {
          "output_type": "display_data",
          "data": {
            "text/html": [
              "<br/>Waiting for W&B process to finish, PID 10763... <strong style=\"color:green\">(success).</strong>"
            ],
            "text/plain": [
              "<IPython.core.display.HTML object>"
            ]
          },
          "metadata": {}
        },
        {
          "output_type": "display_data",
          "data": {
            "application/vnd.jupyter.widget-view+json": {
              "model_id": "561226c861664c1b933ccb20ff61ecff",
              "version_minor": 0,
              "version_major": 2
            },
            "text/plain": [
              "VBox(children=(Label(value=' 0.00MB of 0.00MB uploaded (0.00MB deduped)\\r'), FloatProgress(value=1.0, max=1.0)…"
            ]
          },
          "metadata": {}
        },
        {
          "output_type": "display_data",
          "data": {
            "text/html": [
              "<style>\n",
              "    table.wandb td:nth-child(1) { padding: 0 10px; text-align: right }\n",
              "    .wandb-row { display: flex; flex-direction: row; flex-wrap: wrap; width: 100% }\n",
              "    .wandb-col { display: flex; flex-direction: column; flex-basis: 100%; flex: 1; padding: 10px; }\n",
              "    </style>\n",
              "<div class=\"wandb-row\"><div class=\"wandb-col\">\n",
              "<h3>Run history:</h3><br/><table class=\"wandb\"><tr><td>mae</td><td>▁</td></tr><tr><td>mse</td><td>▁</td></tr></table><br/></div><div class=\"wandb-col\">\n",
              "<h3>Run summary:</h3><br/><table class=\"wandb\"><tr><td>mae</td><td>0.34042</td></tr><tr><td>mse</td><td>0.24447</td></tr></table>\n",
              "</div></div>\n",
              "Synced 5 W&B file(s), 0 media file(s), 0 artifact file(s) and 0 other file(s)\n",
              "<br/>Synced <strong style=\"color:#cdcd00\">dashing-sweep-3</strong>: <a href=\"https://wandb.ai/clau/california-housing-sweeps/runs/r5mllz0a\" target=\"_blank\">https://wandb.ai/clau/california-housing-sweeps/runs/r5mllz0a</a><br/>\n",
              "Find logs at: <code>./wandb/run-20211013_232922-r5mllz0a/logs</code><br/>\n"
            ],
            "text/plain": [
              "<IPython.core.display.HTML object>"
            ]
          },
          "metadata": {}
        },
        {
          "output_type": "stream",
          "name": "stderr",
          "text": [
            "\u001b[34m\u001b[1mwandb\u001b[0m: Sweep Agent: Waiting for job.\n",
            "\u001b[34m\u001b[1mwandb\u001b[0m: Job received.\n",
            "\u001b[34m\u001b[1mwandb\u001b[0m: Agent Starting Run: 01oel7m7 with config:\n",
            "\u001b[34m\u001b[1mwandb\u001b[0m: \tmax_depth: 4\n",
            "\u001b[34m\u001b[1mwandb\u001b[0m: \tn_estimators: 100\n",
            "\u001b[34m\u001b[1mwandb\u001b[0m: \tnum_leaves: 63\n"
          ]
        },
        {
          "output_type": "display_data",
          "data": {
            "text/html": [
              "\n",
              "                    Syncing run <strong><a href=\"https://wandb.ai/clau/california-housing-sweeps/runs/01oel7m7\" target=\"_blank\">different-sweep-4</a></strong> to <a href=\"https://wandb.ai/clau/california-housing-sweeps\" target=\"_blank\">Weights & Biases</a> (<a href=\"https://docs.wandb.com/integrations/jupyter.html\" target=\"_blank\">docs</a>).<br/>\n",
              "Sweep page: <a href=\"https://wandb.ai/clau/california-housing-sweeps/sweeps/zhlex3q9\" target=\"_blank\">https://wandb.ai/clau/california-housing-sweeps/sweeps/zhlex3q9</a><br/>\n",
              "\n",
              "                "
            ],
            "text/plain": [
              "<IPython.core.display.HTML object>"
            ]
          },
          "metadata": {}
        },
        {
          "output_type": "stream",
          "name": "stdout",
          "text": [
            "MAE: 0.3404, MSE: 0.2445\n"
          ]
        },
        {
          "output_type": "display_data",
          "data": {
            "text/html": [
              "<br/>Waiting for W&B process to finish, PID 10801... <strong style=\"color:green\">(success).</strong>"
            ],
            "text/plain": [
              "<IPython.core.display.HTML object>"
            ]
          },
          "metadata": {}
        },
        {
          "output_type": "display_data",
          "data": {
            "application/vnd.jupyter.widget-view+json": {
              "model_id": "e7018a07b35540739e9ca838946bc961",
              "version_minor": 0,
              "version_major": 2
            },
            "text/plain": [
              "VBox(children=(Label(value=' 0.00MB of 0.00MB uploaded (0.00MB deduped)\\r'), FloatProgress(value=1.0, max=1.0)…"
            ]
          },
          "metadata": {}
        },
        {
          "output_type": "display_data",
          "data": {
            "text/html": [
              "<style>\n",
              "    table.wandb td:nth-child(1) { padding: 0 10px; text-align: right }\n",
              "    .wandb-row { display: flex; flex-direction: row; flex-wrap: wrap; width: 100% }\n",
              "    .wandb-col { display: flex; flex-direction: column; flex-basis: 100%; flex: 1; padding: 10px; }\n",
              "    </style>\n",
              "<div class=\"wandb-row\"><div class=\"wandb-col\">\n",
              "<h3>Run history:</h3><br/><table class=\"wandb\"><tr><td>mae</td><td>▁</td></tr><tr><td>mse</td><td>▁</td></tr></table><br/></div><div class=\"wandb-col\">\n",
              "<h3>Run summary:</h3><br/><table class=\"wandb\"><tr><td>mae</td><td>0.34042</td></tr><tr><td>mse</td><td>0.24447</td></tr></table>\n",
              "</div></div>\n",
              "Synced 5 W&B file(s), 0 media file(s), 0 artifact file(s) and 0 other file(s)\n",
              "<br/>Synced <strong style=\"color:#cdcd00\">different-sweep-4</strong>: <a href=\"https://wandb.ai/clau/california-housing-sweeps/runs/01oel7m7\" target=\"_blank\">https://wandb.ai/clau/california-housing-sweeps/runs/01oel7m7</a><br/>\n",
              "Find logs at: <code>./wandb/run-20211013_232939-01oel7m7/logs</code><br/>\n"
            ],
            "text/plain": [
              "<IPython.core.display.HTML object>"
            ]
          },
          "metadata": {}
        },
        {
          "output_type": "stream",
          "name": "stderr",
          "text": [
            "\u001b[34m\u001b[1mwandb\u001b[0m: Agent Starting Run: ggtwudah with config:\n",
            "\u001b[34m\u001b[1mwandb\u001b[0m: \tmax_depth: 4\n",
            "\u001b[34m\u001b[1mwandb\u001b[0m: \tn_estimators: 100\n",
            "\u001b[34m\u001b[1mwandb\u001b[0m: \tnum_leaves: 100\n"
          ]
        },
        {
          "output_type": "display_data",
          "data": {
            "text/html": [
              "\n",
              "                    Syncing run <strong><a href=\"https://wandb.ai/clau/california-housing-sweeps/runs/ggtwudah\" target=\"_blank\">desert-sweep-5</a></strong> to <a href=\"https://wandb.ai/clau/california-housing-sweeps\" target=\"_blank\">Weights & Biases</a> (<a href=\"https://docs.wandb.com/integrations/jupyter.html\" target=\"_blank\">docs</a>).<br/>\n",
              "Sweep page: <a href=\"https://wandb.ai/clau/california-housing-sweeps/sweeps/zhlex3q9\" target=\"_blank\">https://wandb.ai/clau/california-housing-sweeps/sweeps/zhlex3q9</a><br/>\n",
              "\n",
              "                "
            ],
            "text/plain": [
              "<IPython.core.display.HTML object>"
            ]
          },
          "metadata": {}
        },
        {
          "output_type": "stream",
          "name": "stdout",
          "text": [
            "MAE: 0.3404, MSE: 0.2445\n"
          ]
        },
        {
          "output_type": "display_data",
          "data": {
            "text/html": [
              "<br/>Waiting for W&B process to finish, PID 10837... <strong style=\"color:green\">(success).</strong>"
            ],
            "text/plain": [
              "<IPython.core.display.HTML object>"
            ]
          },
          "metadata": {}
        },
        {
          "output_type": "display_data",
          "data": {
            "application/vnd.jupyter.widget-view+json": {
              "model_id": "b68e917b36714c0b9604395f2b1a3353",
              "version_minor": 0,
              "version_major": 2
            },
            "text/plain": [
              "VBox(children=(Label(value=' 0.00MB of 0.00MB uploaded (0.00MB deduped)\\r'), FloatProgress(value=1.0, max=1.0)…"
            ]
          },
          "metadata": {}
        },
        {
          "output_type": "display_data",
          "data": {
            "text/html": [
              "<style>\n",
              "    table.wandb td:nth-child(1) { padding: 0 10px; text-align: right }\n",
              "    .wandb-row { display: flex; flex-direction: row; flex-wrap: wrap; width: 100% }\n",
              "    .wandb-col { display: flex; flex-direction: column; flex-basis: 100%; flex: 1; padding: 10px; }\n",
              "    </style>\n",
              "<div class=\"wandb-row\"><div class=\"wandb-col\">\n",
              "<h3>Run history:</h3><br/><table class=\"wandb\"><tr><td>mae</td><td>▁</td></tr><tr><td>mse</td><td>▁</td></tr></table><br/></div><div class=\"wandb-col\">\n",
              "<h3>Run summary:</h3><br/><table class=\"wandb\"><tr><td>mae</td><td>0.34042</td></tr><tr><td>mse</td><td>0.24447</td></tr></table>\n",
              "</div></div>\n",
              "Synced 5 W&B file(s), 0 media file(s), 0 artifact file(s) and 0 other file(s)\n",
              "<br/>Synced <strong style=\"color:#cdcd00\">desert-sweep-5</strong>: <a href=\"https://wandb.ai/clau/california-housing-sweeps/runs/ggtwudah\" target=\"_blank\">https://wandb.ai/clau/california-housing-sweeps/runs/ggtwudah</a><br/>\n",
              "Find logs at: <code>./wandb/run-20211013_232947-ggtwudah/logs</code><br/>\n"
            ],
            "text/plain": [
              "<IPython.core.display.HTML object>"
            ]
          },
          "metadata": {}
        },
        {
          "output_type": "stream",
          "name": "stderr",
          "text": [
            "\u001b[34m\u001b[1mwandb\u001b[0m: Agent Starting Run: 99xy1e9n with config:\n",
            "\u001b[34m\u001b[1mwandb\u001b[0m: \tmax_depth: 4\n",
            "\u001b[34m\u001b[1mwandb\u001b[0m: \tn_estimators: 200\n",
            "\u001b[34m\u001b[1mwandb\u001b[0m: \tnum_leaves: 15\n"
          ]
        },
        {
          "output_type": "display_data",
          "data": {
            "text/html": [
              "\n",
              "                    Syncing run <strong><a href=\"https://wandb.ai/clau/california-housing-sweeps/runs/99xy1e9n\" target=\"_blank\">clean-sweep-6</a></strong> to <a href=\"https://wandb.ai/clau/california-housing-sweeps\" target=\"_blank\">Weights & Biases</a> (<a href=\"https://docs.wandb.com/integrations/jupyter.html\" target=\"_blank\">docs</a>).<br/>\n",
              "Sweep page: <a href=\"https://wandb.ai/clau/california-housing-sweeps/sweeps/zhlex3q9\" target=\"_blank\">https://wandb.ai/clau/california-housing-sweeps/sweeps/zhlex3q9</a><br/>\n",
              "\n",
              "                "
            ],
            "text/plain": [
              "<IPython.core.display.HTML object>"
            ]
          },
          "metadata": {}
        },
        {
          "output_type": "stream",
          "name": "stdout",
          "text": [
            "MAE: 0.3197, MSE: 0.2218\n"
          ]
        },
        {
          "output_type": "display_data",
          "data": {
            "text/html": [
              "<br/>Waiting for W&B process to finish, PID 10873... <strong style=\"color:green\">(success).</strong>"
            ],
            "text/plain": [
              "<IPython.core.display.HTML object>"
            ]
          },
          "metadata": {}
        },
        {
          "output_type": "display_data",
          "data": {
            "application/vnd.jupyter.widget-view+json": {
              "model_id": "37ca80b343d84f28a55d171513751892",
              "version_minor": 0,
              "version_major": 2
            },
            "text/plain": [
              "VBox(children=(Label(value=' 0.00MB of 0.00MB uploaded (0.00MB deduped)\\r'), FloatProgress(value=1.0, max=1.0)…"
            ]
          },
          "metadata": {}
        },
        {
          "output_type": "display_data",
          "data": {
            "text/html": [
              "<style>\n",
              "    table.wandb td:nth-child(1) { padding: 0 10px; text-align: right }\n",
              "    .wandb-row { display: flex; flex-direction: row; flex-wrap: wrap; width: 100% }\n",
              "    .wandb-col { display: flex; flex-direction: column; flex-basis: 100%; flex: 1; padding: 10px; }\n",
              "    </style>\n",
              "<div class=\"wandb-row\"><div class=\"wandb-col\">\n",
              "<h3>Run history:</h3><br/><table class=\"wandb\"><tr><td>mae</td><td>▁</td></tr><tr><td>mse</td><td>▁</td></tr></table><br/></div><div class=\"wandb-col\">\n",
              "<h3>Run summary:</h3><br/><table class=\"wandb\"><tr><td>mae</td><td>0.31972</td></tr><tr><td>mse</td><td>0.22183</td></tr></table>\n",
              "</div></div>\n",
              "Synced 5 W&B file(s), 0 media file(s), 0 artifact file(s) and 0 other file(s)\n",
              "<br/>Synced <strong style=\"color:#cdcd00\">clean-sweep-6</strong>: <a href=\"https://wandb.ai/clau/california-housing-sweeps/runs/99xy1e9n\" target=\"_blank\">https://wandb.ai/clau/california-housing-sweeps/runs/99xy1e9n</a><br/>\n",
              "Find logs at: <code>./wandb/run-20211013_232954-99xy1e9n/logs</code><br/>\n"
            ],
            "text/plain": [
              "<IPython.core.display.HTML object>"
            ]
          },
          "metadata": {}
        },
        {
          "output_type": "stream",
          "name": "stderr",
          "text": [
            "\u001b[34m\u001b[1mwandb\u001b[0m: Agent Starting Run: i1pwhaob with config:\n",
            "\u001b[34m\u001b[1mwandb\u001b[0m: \tmax_depth: 4\n",
            "\u001b[34m\u001b[1mwandb\u001b[0m: \tn_estimators: 200\n",
            "\u001b[34m\u001b[1mwandb\u001b[0m: \tnum_leaves: 23\n"
          ]
        },
        {
          "output_type": "display_data",
          "data": {
            "text/html": [
              "\n",
              "                    Syncing run <strong><a href=\"https://wandb.ai/clau/california-housing-sweeps/runs/i1pwhaob\" target=\"_blank\">different-sweep-7</a></strong> to <a href=\"https://wandb.ai/clau/california-housing-sweeps\" target=\"_blank\">Weights & Biases</a> (<a href=\"https://docs.wandb.com/integrations/jupyter.html\" target=\"_blank\">docs</a>).<br/>\n",
              "Sweep page: <a href=\"https://wandb.ai/clau/california-housing-sweeps/sweeps/zhlex3q9\" target=\"_blank\">https://wandb.ai/clau/california-housing-sweeps/sweeps/zhlex3q9</a><br/>\n",
              "\n",
              "                "
            ],
            "text/plain": [
              "<IPython.core.display.HTML object>"
            ]
          },
          "metadata": {}
        },
        {
          "output_type": "stream",
          "name": "stdout",
          "text": [
            "MAE: 0.3188, MSE: 0.2205\n"
          ]
        },
        {
          "output_type": "display_data",
          "data": {
            "text/html": [
              "<br/>Waiting for W&B process to finish, PID 10909... <strong style=\"color:green\">(success).</strong>"
            ],
            "text/plain": [
              "<IPython.core.display.HTML object>"
            ]
          },
          "metadata": {}
        },
        {
          "output_type": "display_data",
          "data": {
            "application/vnd.jupyter.widget-view+json": {
              "model_id": "2342bdbf675a43f7a339b020535e6c03",
              "version_minor": 0,
              "version_major": 2
            },
            "text/plain": [
              "VBox(children=(Label(value=' 0.00MB of 0.00MB uploaded (0.00MB deduped)\\r'), FloatProgress(value=1.0, max=1.0)…"
            ]
          },
          "metadata": {}
        },
        {
          "output_type": "display_data",
          "data": {
            "text/html": [
              "<style>\n",
              "    table.wandb td:nth-child(1) { padding: 0 10px; text-align: right }\n",
              "    .wandb-row { display: flex; flex-direction: row; flex-wrap: wrap; width: 100% }\n",
              "    .wandb-col { display: flex; flex-direction: column; flex-basis: 100%; flex: 1; padding: 10px; }\n",
              "    </style>\n",
              "<div class=\"wandb-row\"><div class=\"wandb-col\">\n",
              "<h3>Run history:</h3><br/><table class=\"wandb\"><tr><td>mae</td><td>▁</td></tr><tr><td>mse</td><td>▁</td></tr></table><br/></div><div class=\"wandb-col\">\n",
              "<h3>Run summary:</h3><br/><table class=\"wandb\"><tr><td>mae</td><td>0.3188</td></tr><tr><td>mse</td><td>0.22048</td></tr></table>\n",
              "</div></div>\n",
              "Synced 5 W&B file(s), 0 media file(s), 0 artifact file(s) and 0 other file(s)\n",
              "<br/>Synced <strong style=\"color:#cdcd00\">different-sweep-7</strong>: <a href=\"https://wandb.ai/clau/california-housing-sweeps/runs/i1pwhaob\" target=\"_blank\">https://wandb.ai/clau/california-housing-sweeps/runs/i1pwhaob</a><br/>\n",
              "Find logs at: <code>./wandb/run-20211013_233002-i1pwhaob/logs</code><br/>\n"
            ],
            "text/plain": [
              "<IPython.core.display.HTML object>"
            ]
          },
          "metadata": {}
        },
        {
          "output_type": "stream",
          "name": "stderr",
          "text": [
            "\u001b[34m\u001b[1mwandb\u001b[0m: Agent Starting Run: e850joa7 with config:\n",
            "\u001b[34m\u001b[1mwandb\u001b[0m: \tmax_depth: 4\n",
            "\u001b[34m\u001b[1mwandb\u001b[0m: \tn_estimators: 200\n",
            "\u001b[34m\u001b[1mwandb\u001b[0m: \tnum_leaves: 31\n"
          ]
        },
        {
          "output_type": "display_data",
          "data": {
            "text/html": [
              "\n",
              "                    Syncing run <strong><a href=\"https://wandb.ai/clau/california-housing-sweeps/runs/e850joa7\" target=\"_blank\">colorful-sweep-8</a></strong> to <a href=\"https://wandb.ai/clau/california-housing-sweeps\" target=\"_blank\">Weights & Biases</a> (<a href=\"https://docs.wandb.com/integrations/jupyter.html\" target=\"_blank\">docs</a>).<br/>\n",
              "Sweep page: <a href=\"https://wandb.ai/clau/california-housing-sweeps/sweeps/zhlex3q9\" target=\"_blank\">https://wandb.ai/clau/california-housing-sweeps/sweeps/zhlex3q9</a><br/>\n",
              "\n",
              "                "
            ],
            "text/plain": [
              "<IPython.core.display.HTML object>"
            ]
          },
          "metadata": {}
        },
        {
          "output_type": "stream",
          "name": "stdout",
          "text": [
            "MAE: 0.3188, MSE: 0.2205\n"
          ]
        },
        {
          "output_type": "display_data",
          "data": {
            "text/html": [
              "<br/>Waiting for W&B process to finish, PID 10945... <strong style=\"color:green\">(success).</strong>"
            ],
            "text/plain": [
              "<IPython.core.display.HTML object>"
            ]
          },
          "metadata": {}
        },
        {
          "output_type": "display_data",
          "data": {
            "application/vnd.jupyter.widget-view+json": {
              "model_id": "d5fa4a3a989b419a948a1afdfcf482a9",
              "version_minor": 0,
              "version_major": 2
            },
            "text/plain": [
              "VBox(children=(Label(value=' 0.00MB of 0.00MB uploaded (0.00MB deduped)\\r'), FloatProgress(value=1.0, max=1.0)…"
            ]
          },
          "metadata": {}
        },
        {
          "output_type": "display_data",
          "data": {
            "text/html": [
              "<style>\n",
              "    table.wandb td:nth-child(1) { padding: 0 10px; text-align: right }\n",
              "    .wandb-row { display: flex; flex-direction: row; flex-wrap: wrap; width: 100% }\n",
              "    .wandb-col { display: flex; flex-direction: column; flex-basis: 100%; flex: 1; padding: 10px; }\n",
              "    </style>\n",
              "<div class=\"wandb-row\"><div class=\"wandb-col\">\n",
              "<h3>Run history:</h3><br/><table class=\"wandb\"><tr><td>mae</td><td>▁</td></tr><tr><td>mse</td><td>▁</td></tr></table><br/></div><div class=\"wandb-col\">\n",
              "<h3>Run summary:</h3><br/><table class=\"wandb\"><tr><td>mae</td><td>0.3188</td></tr><tr><td>mse</td><td>0.22048</td></tr></table>\n",
              "</div></div>\n",
              "Synced 5 W&B file(s), 0 media file(s), 0 artifact file(s) and 0 other file(s)\n",
              "<br/>Synced <strong style=\"color:#cdcd00\">colorful-sweep-8</strong>: <a href=\"https://wandb.ai/clau/california-housing-sweeps/runs/e850joa7\" target=\"_blank\">https://wandb.ai/clau/california-housing-sweeps/runs/e850joa7</a><br/>\n",
              "Find logs at: <code>./wandb/run-20211013_233010-e850joa7/logs</code><br/>\n"
            ],
            "text/plain": [
              "<IPython.core.display.HTML object>"
            ]
          },
          "metadata": {}
        },
        {
          "output_type": "stream",
          "name": "stderr",
          "text": [
            "\u001b[34m\u001b[1mwandb\u001b[0m: Agent Starting Run: q0w5i3dt with config:\n",
            "\u001b[34m\u001b[1mwandb\u001b[0m: \tmax_depth: 4\n",
            "\u001b[34m\u001b[1mwandb\u001b[0m: \tn_estimators: 200\n",
            "\u001b[34m\u001b[1mwandb\u001b[0m: \tnum_leaves: 63\n"
          ]
        },
        {
          "output_type": "display_data",
          "data": {
            "text/html": [
              "\n",
              "                    Syncing run <strong><a href=\"https://wandb.ai/clau/california-housing-sweeps/runs/q0w5i3dt\" target=\"_blank\">generous-sweep-9</a></strong> to <a href=\"https://wandb.ai/clau/california-housing-sweeps\" target=\"_blank\">Weights & Biases</a> (<a href=\"https://docs.wandb.com/integrations/jupyter.html\" target=\"_blank\">docs</a>).<br/>\n",
              "Sweep page: <a href=\"https://wandb.ai/clau/california-housing-sweeps/sweeps/zhlex3q9\" target=\"_blank\">https://wandb.ai/clau/california-housing-sweeps/sweeps/zhlex3q9</a><br/>\n",
              "\n",
              "                "
            ],
            "text/plain": [
              "<IPython.core.display.HTML object>"
            ]
          },
          "metadata": {}
        },
        {
          "output_type": "stream",
          "name": "stdout",
          "text": [
            "MAE: 0.3188, MSE: 0.2205\n"
          ]
        },
        {
          "output_type": "display_data",
          "data": {
            "text/html": [
              "<br/>Waiting for W&B process to finish, PID 10981... <strong style=\"color:green\">(success).</strong>"
            ],
            "text/plain": [
              "<IPython.core.display.HTML object>"
            ]
          },
          "metadata": {}
        },
        {
          "output_type": "display_data",
          "data": {
            "application/vnd.jupyter.widget-view+json": {
              "model_id": "3c13c0522663422a8d2376253ee85820",
              "version_minor": 0,
              "version_major": 2
            },
            "text/plain": [
              "VBox(children=(Label(value=' 0.00MB of 0.00MB uploaded (0.00MB deduped)\\r'), FloatProgress(value=1.0, max=1.0)…"
            ]
          },
          "metadata": {}
        },
        {
          "output_type": "display_data",
          "data": {
            "text/html": [
              "<style>\n",
              "    table.wandb td:nth-child(1) { padding: 0 10px; text-align: right }\n",
              "    .wandb-row { display: flex; flex-direction: row; flex-wrap: wrap; width: 100% }\n",
              "    .wandb-col { display: flex; flex-direction: column; flex-basis: 100%; flex: 1; padding: 10px; }\n",
              "    </style>\n",
              "<div class=\"wandb-row\"><div class=\"wandb-col\">\n",
              "<h3>Run history:</h3><br/><table class=\"wandb\"><tr><td>mae</td><td>▁</td></tr><tr><td>mse</td><td>▁</td></tr></table><br/></div><div class=\"wandb-col\">\n",
              "<h3>Run summary:</h3><br/><table class=\"wandb\"><tr><td>mae</td><td>0.3188</td></tr><tr><td>mse</td><td>0.22048</td></tr></table>\n",
              "</div></div>\n",
              "Synced 5 W&B file(s), 0 media file(s), 0 artifact file(s) and 0 other file(s)\n",
              "<br/>Synced <strong style=\"color:#cdcd00\">generous-sweep-9</strong>: <a href=\"https://wandb.ai/clau/california-housing-sweeps/runs/q0w5i3dt\" target=\"_blank\">https://wandb.ai/clau/california-housing-sweeps/runs/q0w5i3dt</a><br/>\n",
              "Find logs at: <code>./wandb/run-20211013_233017-q0w5i3dt/logs</code><br/>\n"
            ],
            "text/plain": [
              "<IPython.core.display.HTML object>"
            ]
          },
          "metadata": {}
        },
        {
          "output_type": "stream",
          "name": "stderr",
          "text": [
            "\u001b[34m\u001b[1mwandb\u001b[0m: Agent Starting Run: ua4ssmsa with config:\n",
            "\u001b[34m\u001b[1mwandb\u001b[0m: \tmax_depth: 4\n",
            "\u001b[34m\u001b[1mwandb\u001b[0m: \tn_estimators: 200\n",
            "\u001b[34m\u001b[1mwandb\u001b[0m: \tnum_leaves: 100\n"
          ]
        },
        {
          "output_type": "display_data",
          "data": {
            "text/html": [
              "\n",
              "                    Syncing run <strong><a href=\"https://wandb.ai/clau/california-housing-sweeps/runs/ua4ssmsa\" target=\"_blank\">swift-sweep-10</a></strong> to <a href=\"https://wandb.ai/clau/california-housing-sweeps\" target=\"_blank\">Weights & Biases</a> (<a href=\"https://docs.wandb.com/integrations/jupyter.html\" target=\"_blank\">docs</a>).<br/>\n",
              "Sweep page: <a href=\"https://wandb.ai/clau/california-housing-sweeps/sweeps/zhlex3q9\" target=\"_blank\">https://wandb.ai/clau/california-housing-sweeps/sweeps/zhlex3q9</a><br/>\n",
              "\n",
              "                "
            ],
            "text/plain": [
              "<IPython.core.display.HTML object>"
            ]
          },
          "metadata": {}
        },
        {
          "output_type": "stream",
          "name": "stdout",
          "text": [
            "MAE: 0.3188, MSE: 0.2205\n"
          ]
        },
        {
          "output_type": "display_data",
          "data": {
            "text/html": [
              "<br/>Waiting for W&B process to finish, PID 11017... <strong style=\"color:green\">(success).</strong>"
            ],
            "text/plain": [
              "<IPython.core.display.HTML object>"
            ]
          },
          "metadata": {}
        },
        {
          "output_type": "display_data",
          "data": {
            "application/vnd.jupyter.widget-view+json": {
              "model_id": "ab929b12f5c64117b482a86e6dc0d601",
              "version_minor": 0,
              "version_major": 2
            },
            "text/plain": [
              "VBox(children=(Label(value=' 0.00MB of 0.00MB uploaded (0.00MB deduped)\\r'), FloatProgress(value=1.0, max=1.0)…"
            ]
          },
          "metadata": {}
        },
        {
          "output_type": "display_data",
          "data": {
            "text/html": [
              "<style>\n",
              "    table.wandb td:nth-child(1) { padding: 0 10px; text-align: right }\n",
              "    .wandb-row { display: flex; flex-direction: row; flex-wrap: wrap; width: 100% }\n",
              "    .wandb-col { display: flex; flex-direction: column; flex-basis: 100%; flex: 1; padding: 10px; }\n",
              "    </style>\n",
              "<div class=\"wandb-row\"><div class=\"wandb-col\">\n",
              "<h3>Run history:</h3><br/><table class=\"wandb\"><tr><td>mae</td><td>▁</td></tr><tr><td>mse</td><td>▁</td></tr></table><br/></div><div class=\"wandb-col\">\n",
              "<h3>Run summary:</h3><br/><table class=\"wandb\"><tr><td>mae</td><td>0.3188</td></tr><tr><td>mse</td><td>0.22048</td></tr></table>\n",
              "</div></div>\n",
              "Synced 5 W&B file(s), 0 media file(s), 0 artifact file(s) and 0 other file(s)\n",
              "<br/>Synced <strong style=\"color:#cdcd00\">swift-sweep-10</strong>: <a href=\"https://wandb.ai/clau/california-housing-sweeps/runs/ua4ssmsa\" target=\"_blank\">https://wandb.ai/clau/california-housing-sweeps/runs/ua4ssmsa</a><br/>\n",
              "Find logs at: <code>./wandb/run-20211013_233025-ua4ssmsa/logs</code><br/>\n"
            ],
            "text/plain": [
              "<IPython.core.display.HTML object>"
            ]
          },
          "metadata": {}
        },
        {
          "output_type": "stream",
          "name": "stderr",
          "text": [
            "\u001b[34m\u001b[1mwandb\u001b[0m: Agent Starting Run: t6oz0nk8 with config:\n",
            "\u001b[34m\u001b[1mwandb\u001b[0m: \tmax_depth: 4\n",
            "\u001b[34m\u001b[1mwandb\u001b[0m: \tn_estimators: 500\n",
            "\u001b[34m\u001b[1mwandb\u001b[0m: \tnum_leaves: 15\n"
          ]
        },
        {
          "output_type": "display_data",
          "data": {
            "text/html": [
              "\n",
              "                    Syncing run <strong><a href=\"https://wandb.ai/clau/california-housing-sweeps/runs/t6oz0nk8\" target=\"_blank\">soft-sweep-11</a></strong> to <a href=\"https://wandb.ai/clau/california-housing-sweeps\" target=\"_blank\">Weights & Biases</a> (<a href=\"https://docs.wandb.com/integrations/jupyter.html\" target=\"_blank\">docs</a>).<br/>\n",
              "Sweep page: <a href=\"https://wandb.ai/clau/california-housing-sweeps/sweeps/zhlex3q9\" target=\"_blank\">https://wandb.ai/clau/california-housing-sweeps/sweeps/zhlex3q9</a><br/>\n",
              "\n",
              "                "
            ],
            "text/plain": [
              "<IPython.core.display.HTML object>"
            ]
          },
          "metadata": {}
        },
        {
          "output_type": "stream",
          "name": "stdout",
          "text": [
            "MAE: 0.3018, MSE: 0.2029\n"
          ]
        },
        {
          "output_type": "display_data",
          "data": {
            "text/html": [
              "<br/>Waiting for W&B process to finish, PID 11053... <strong style=\"color:green\">(success).</strong>"
            ],
            "text/plain": [
              "<IPython.core.display.HTML object>"
            ]
          },
          "metadata": {}
        },
        {
          "output_type": "display_data",
          "data": {
            "application/vnd.jupyter.widget-view+json": {
              "model_id": "848cf717b3dd4ab1b0b29a309c35686f",
              "version_minor": 0,
              "version_major": 2
            },
            "text/plain": [
              "VBox(children=(Label(value=' 0.00MB of 0.00MB uploaded (0.00MB deduped)\\r'), FloatProgress(value=1.0, max=1.0)…"
            ]
          },
          "metadata": {}
        },
        {
          "output_type": "display_data",
          "data": {
            "text/html": [
              "<style>\n",
              "    table.wandb td:nth-child(1) { padding: 0 10px; text-align: right }\n",
              "    .wandb-row { display: flex; flex-direction: row; flex-wrap: wrap; width: 100% }\n",
              "    .wandb-col { display: flex; flex-direction: column; flex-basis: 100%; flex: 1; padding: 10px; }\n",
              "    </style>\n",
              "<div class=\"wandb-row\"><div class=\"wandb-col\">\n",
              "<h3>Run history:</h3><br/><table class=\"wandb\"><tr><td>mae</td><td>▁</td></tr><tr><td>mse</td><td>▁</td></tr></table><br/></div><div class=\"wandb-col\">\n",
              "<h3>Run summary:</h3><br/><table class=\"wandb\"><tr><td>mae</td><td>0.30181</td></tr><tr><td>mse</td><td>0.20285</td></tr></table>\n",
              "</div></div>\n",
              "Synced 5 W&B file(s), 0 media file(s), 0 artifact file(s) and 0 other file(s)\n",
              "<br/>Synced <strong style=\"color:#cdcd00\">soft-sweep-11</strong>: <a href=\"https://wandb.ai/clau/california-housing-sweeps/runs/t6oz0nk8\" target=\"_blank\">https://wandb.ai/clau/california-housing-sweeps/runs/t6oz0nk8</a><br/>\n",
              "Find logs at: <code>./wandb/run-20211013_233033-t6oz0nk8/logs</code><br/>\n"
            ],
            "text/plain": [
              "<IPython.core.display.HTML object>"
            ]
          },
          "metadata": {}
        },
        {
          "output_type": "stream",
          "name": "stderr",
          "text": [
            "\u001b[34m\u001b[1mwandb\u001b[0m: Agent Starting Run: tup943bh with config:\n",
            "\u001b[34m\u001b[1mwandb\u001b[0m: \tmax_depth: 4\n",
            "\u001b[34m\u001b[1mwandb\u001b[0m: \tn_estimators: 500\n",
            "\u001b[34m\u001b[1mwandb\u001b[0m: \tnum_leaves: 23\n"
          ]
        },
        {
          "output_type": "display_data",
          "data": {
            "text/html": [
              "\n",
              "                    Syncing run <strong><a href=\"https://wandb.ai/clau/california-housing-sweeps/runs/tup943bh\" target=\"_blank\">grateful-sweep-12</a></strong> to <a href=\"https://wandb.ai/clau/california-housing-sweeps\" target=\"_blank\">Weights & Biases</a> (<a href=\"https://docs.wandb.com/integrations/jupyter.html\" target=\"_blank\">docs</a>).<br/>\n",
              "Sweep page: <a href=\"https://wandb.ai/clau/california-housing-sweeps/sweeps/zhlex3q9\" target=\"_blank\">https://wandb.ai/clau/california-housing-sweeps/sweeps/zhlex3q9</a><br/>\n",
              "\n",
              "                "
            ],
            "text/plain": [
              "<IPython.core.display.HTML object>"
            ]
          },
          "metadata": {}
        },
        {
          "output_type": "stream",
          "name": "stdout",
          "text": [
            "MAE: 0.2997, MSE: 0.202\n"
          ]
        },
        {
          "output_type": "display_data",
          "data": {
            "text/html": [
              "<br/>Waiting for W&B process to finish, PID 11089... <strong style=\"color:green\">(success).</strong>"
            ],
            "text/plain": [
              "<IPython.core.display.HTML object>"
            ]
          },
          "metadata": {}
        },
        {
          "output_type": "display_data",
          "data": {
            "application/vnd.jupyter.widget-view+json": {
              "model_id": "92315ac72b3f470db1d11bcf4e918072",
              "version_minor": 0,
              "version_major": 2
            },
            "text/plain": [
              "VBox(children=(Label(value=' 0.00MB of 0.00MB uploaded (0.00MB deduped)\\r'), FloatProgress(value=1.0, max=1.0)…"
            ]
          },
          "metadata": {}
        },
        {
          "output_type": "display_data",
          "data": {
            "text/html": [
              "<style>\n",
              "    table.wandb td:nth-child(1) { padding: 0 10px; text-align: right }\n",
              "    .wandb-row { display: flex; flex-direction: row; flex-wrap: wrap; width: 100% }\n",
              "    .wandb-col { display: flex; flex-direction: column; flex-basis: 100%; flex: 1; padding: 10px; }\n",
              "    </style>\n",
              "<div class=\"wandb-row\"><div class=\"wandb-col\">\n",
              "<h3>Run history:</h3><br/><table class=\"wandb\"><tr><td>mae</td><td>▁</td></tr><tr><td>mse</td><td>▁</td></tr></table><br/></div><div class=\"wandb-col\">\n",
              "<h3>Run summary:</h3><br/><table class=\"wandb\"><tr><td>mae</td><td>0.2997</td></tr><tr><td>mse</td><td>0.20202</td></tr></table>\n",
              "</div></div>\n",
              "Synced 5 W&B file(s), 0 media file(s), 0 artifact file(s) and 0 other file(s)\n",
              "<br/>Synced <strong style=\"color:#cdcd00\">grateful-sweep-12</strong>: <a href=\"https://wandb.ai/clau/california-housing-sweeps/runs/tup943bh\" target=\"_blank\">https://wandb.ai/clau/california-housing-sweeps/runs/tup943bh</a><br/>\n",
              "Find logs at: <code>./wandb/run-20211013_233041-tup943bh/logs</code><br/>\n"
            ],
            "text/plain": [
              "<IPython.core.display.HTML object>"
            ]
          },
          "metadata": {}
        },
        {
          "output_type": "stream",
          "name": "stderr",
          "text": [
            "\u001b[34m\u001b[1mwandb\u001b[0m: Agent Starting Run: ijwu3iba with config:\n",
            "\u001b[34m\u001b[1mwandb\u001b[0m: \tmax_depth: 4\n",
            "\u001b[34m\u001b[1mwandb\u001b[0m: \tn_estimators: 500\n",
            "\u001b[34m\u001b[1mwandb\u001b[0m: \tnum_leaves: 31\n"
          ]
        },
        {
          "output_type": "display_data",
          "data": {
            "text/html": [
              "\n",
              "                    Syncing run <strong><a href=\"https://wandb.ai/clau/california-housing-sweeps/runs/ijwu3iba\" target=\"_blank\">crimson-sweep-13</a></strong> to <a href=\"https://wandb.ai/clau/california-housing-sweeps\" target=\"_blank\">Weights & Biases</a> (<a href=\"https://docs.wandb.com/integrations/jupyter.html\" target=\"_blank\">docs</a>).<br/>\n",
              "Sweep page: <a href=\"https://wandb.ai/clau/california-housing-sweeps/sweeps/zhlex3q9\" target=\"_blank\">https://wandb.ai/clau/california-housing-sweeps/sweeps/zhlex3q9</a><br/>\n",
              "\n",
              "                "
            ],
            "text/plain": [
              "<IPython.core.display.HTML object>"
            ]
          },
          "metadata": {}
        },
        {
          "output_type": "stream",
          "name": "stdout",
          "text": [
            "MAE: 0.2997, MSE: 0.202\n"
          ]
        },
        {
          "output_type": "display_data",
          "data": {
            "text/html": [
              "<br/>Waiting for W&B process to finish, PID 11125... <strong style=\"color:green\">(success).</strong>"
            ],
            "text/plain": [
              "<IPython.core.display.HTML object>"
            ]
          },
          "metadata": {}
        },
        {
          "output_type": "display_data",
          "data": {
            "application/vnd.jupyter.widget-view+json": {
              "model_id": "100f77e9fbfc440cacbabff236f43bc6",
              "version_minor": 0,
              "version_major": 2
            },
            "text/plain": [
              "VBox(children=(Label(value=' 0.00MB of 0.00MB uploaded (0.00MB deduped)\\r'), FloatProgress(value=1.0, max=1.0)…"
            ]
          },
          "metadata": {}
        },
        {
          "output_type": "display_data",
          "data": {
            "text/html": [
              "<style>\n",
              "    table.wandb td:nth-child(1) { padding: 0 10px; text-align: right }\n",
              "    .wandb-row { display: flex; flex-direction: row; flex-wrap: wrap; width: 100% }\n",
              "    .wandb-col { display: flex; flex-direction: column; flex-basis: 100%; flex: 1; padding: 10px; }\n",
              "    </style>\n",
              "<div class=\"wandb-row\"><div class=\"wandb-col\">\n",
              "<h3>Run history:</h3><br/><table class=\"wandb\"><tr><td>mae</td><td>▁</td></tr><tr><td>mse</td><td>▁</td></tr></table><br/></div><div class=\"wandb-col\">\n",
              "<h3>Run summary:</h3><br/><table class=\"wandb\"><tr><td>mae</td><td>0.2997</td></tr><tr><td>mse</td><td>0.20202</td></tr></table>\n",
              "</div></div>\n",
              "Synced 5 W&B file(s), 0 media file(s), 0 artifact file(s) and 0 other file(s)\n",
              "<br/>Synced <strong style=\"color:#cdcd00\">crimson-sweep-13</strong>: <a href=\"https://wandb.ai/clau/california-housing-sweeps/runs/ijwu3iba\" target=\"_blank\">https://wandb.ai/clau/california-housing-sweeps/runs/ijwu3iba</a><br/>\n",
              "Find logs at: <code>./wandb/run-20211013_233050-ijwu3iba/logs</code><br/>\n"
            ],
            "text/plain": [
              "<IPython.core.display.HTML object>"
            ]
          },
          "metadata": {}
        },
        {
          "output_type": "stream",
          "name": "stderr",
          "text": [
            "\u001b[34m\u001b[1mwandb\u001b[0m: Agent Starting Run: h9l7jdah with config:\n",
            "\u001b[34m\u001b[1mwandb\u001b[0m: \tmax_depth: 4\n",
            "\u001b[34m\u001b[1mwandb\u001b[0m: \tn_estimators: 500\n",
            "\u001b[34m\u001b[1mwandb\u001b[0m: \tnum_leaves: 63\n"
          ]
        },
        {
          "output_type": "display_data",
          "data": {
            "text/html": [
              "\n",
              "                    Syncing run <strong><a href=\"https://wandb.ai/clau/california-housing-sweeps/runs/h9l7jdah\" target=\"_blank\">gallant-sweep-14</a></strong> to <a href=\"https://wandb.ai/clau/california-housing-sweeps\" target=\"_blank\">Weights & Biases</a> (<a href=\"https://docs.wandb.com/integrations/jupyter.html\" target=\"_blank\">docs</a>).<br/>\n",
              "Sweep page: <a href=\"https://wandb.ai/clau/california-housing-sweeps/sweeps/zhlex3q9\" target=\"_blank\">https://wandb.ai/clau/california-housing-sweeps/sweeps/zhlex3q9</a><br/>\n",
              "\n",
              "                "
            ],
            "text/plain": [
              "<IPython.core.display.HTML object>"
            ]
          },
          "metadata": {}
        },
        {
          "output_type": "stream",
          "name": "stdout",
          "text": [
            "MAE: 0.2997, MSE: 0.202\n"
          ]
        },
        {
          "output_type": "display_data",
          "data": {
            "text/html": [
              "<br/>Waiting for W&B process to finish, PID 11161... <strong style=\"color:green\">(success).</strong>"
            ],
            "text/plain": [
              "<IPython.core.display.HTML object>"
            ]
          },
          "metadata": {}
        },
        {
          "output_type": "display_data",
          "data": {
            "application/vnd.jupyter.widget-view+json": {
              "model_id": "59a2479aca6e4a898b57489bbc982e2b",
              "version_minor": 0,
              "version_major": 2
            },
            "text/plain": [
              "VBox(children=(Label(value=' 0.00MB of 0.00MB uploaded (0.00MB deduped)\\r'), FloatProgress(value=1.0, max=1.0)…"
            ]
          },
          "metadata": {}
        },
        {
          "output_type": "display_data",
          "data": {
            "text/html": [
              "<style>\n",
              "    table.wandb td:nth-child(1) { padding: 0 10px; text-align: right }\n",
              "    .wandb-row { display: flex; flex-direction: row; flex-wrap: wrap; width: 100% }\n",
              "    .wandb-col { display: flex; flex-direction: column; flex-basis: 100%; flex: 1; padding: 10px; }\n",
              "    </style>\n",
              "<div class=\"wandb-row\"><div class=\"wandb-col\">\n",
              "<h3>Run history:</h3><br/><table class=\"wandb\"><tr><td>mae</td><td>▁</td></tr><tr><td>mse</td><td>▁</td></tr></table><br/></div><div class=\"wandb-col\">\n",
              "<h3>Run summary:</h3><br/><table class=\"wandb\"><tr><td>mae</td><td>0.2997</td></tr><tr><td>mse</td><td>0.20202</td></tr></table>\n",
              "</div></div>\n",
              "Synced 5 W&B file(s), 0 media file(s), 0 artifact file(s) and 0 other file(s)\n",
              "<br/>Synced <strong style=\"color:#cdcd00\">gallant-sweep-14</strong>: <a href=\"https://wandb.ai/clau/california-housing-sweeps/runs/h9l7jdah\" target=\"_blank\">https://wandb.ai/clau/california-housing-sweeps/runs/h9l7jdah</a><br/>\n",
              "Find logs at: <code>./wandb/run-20211013_233058-h9l7jdah/logs</code><br/>\n"
            ],
            "text/plain": [
              "<IPython.core.display.HTML object>"
            ]
          },
          "metadata": {}
        },
        {
          "output_type": "stream",
          "name": "stderr",
          "text": [
            "\u001b[34m\u001b[1mwandb\u001b[0m: Agent Starting Run: 7egri7l8 with config:\n",
            "\u001b[34m\u001b[1mwandb\u001b[0m: \tmax_depth: 4\n",
            "\u001b[34m\u001b[1mwandb\u001b[0m: \tn_estimators: 500\n",
            "\u001b[34m\u001b[1mwandb\u001b[0m: \tnum_leaves: 100\n"
          ]
        },
        {
          "output_type": "display_data",
          "data": {
            "text/html": [
              "\n",
              "                    Syncing run <strong><a href=\"https://wandb.ai/clau/california-housing-sweeps/runs/7egri7l8\" target=\"_blank\">spring-sweep-15</a></strong> to <a href=\"https://wandb.ai/clau/california-housing-sweeps\" target=\"_blank\">Weights & Biases</a> (<a href=\"https://docs.wandb.com/integrations/jupyter.html\" target=\"_blank\">docs</a>).<br/>\n",
              "Sweep page: <a href=\"https://wandb.ai/clau/california-housing-sweeps/sweeps/zhlex3q9\" target=\"_blank\">https://wandb.ai/clau/california-housing-sweeps/sweeps/zhlex3q9</a><br/>\n",
              "\n",
              "                "
            ],
            "text/plain": [
              "<IPython.core.display.HTML object>"
            ]
          },
          "metadata": {}
        },
        {
          "output_type": "stream",
          "name": "stdout",
          "text": [
            "MAE: 0.2997, MSE: 0.202\n"
          ]
        },
        {
          "output_type": "display_data",
          "data": {
            "text/html": [
              "<br/>Waiting for W&B process to finish, PID 11197... <strong style=\"color:green\">(success).</strong>"
            ],
            "text/plain": [
              "<IPython.core.display.HTML object>"
            ]
          },
          "metadata": {}
        },
        {
          "output_type": "display_data",
          "data": {
            "application/vnd.jupyter.widget-view+json": {
              "model_id": "006c70ed23c5416187b860f28b1ffdef",
              "version_minor": 0,
              "version_major": 2
            },
            "text/plain": [
              "VBox(children=(Label(value=' 0.00MB of 0.00MB uploaded (0.00MB deduped)\\r'), FloatProgress(value=1.0, max=1.0)…"
            ]
          },
          "metadata": {}
        },
        {
          "output_type": "display_data",
          "data": {
            "text/html": [
              "<style>\n",
              "    table.wandb td:nth-child(1) { padding: 0 10px; text-align: right }\n",
              "    .wandb-row { display: flex; flex-direction: row; flex-wrap: wrap; width: 100% }\n",
              "    .wandb-col { display: flex; flex-direction: column; flex-basis: 100%; flex: 1; padding: 10px; }\n",
              "    </style>\n",
              "<div class=\"wandb-row\"><div class=\"wandb-col\">\n",
              "<h3>Run history:</h3><br/><table class=\"wandb\"><tr><td>mae</td><td>▁</td></tr><tr><td>mse</td><td>▁</td></tr></table><br/></div><div class=\"wandb-col\">\n",
              "<h3>Run summary:</h3><br/><table class=\"wandb\"><tr><td>mae</td><td>0.2997</td></tr><tr><td>mse</td><td>0.20202</td></tr></table>\n",
              "</div></div>\n",
              "Synced 5 W&B file(s), 0 media file(s), 0 artifact file(s) and 0 other file(s)\n",
              "<br/>Synced <strong style=\"color:#cdcd00\">spring-sweep-15</strong>: <a href=\"https://wandb.ai/clau/california-housing-sweeps/runs/7egri7l8\" target=\"_blank\">https://wandb.ai/clau/california-housing-sweeps/runs/7egri7l8</a><br/>\n",
              "Find logs at: <code>./wandb/run-20211013_233106-7egri7l8/logs</code><br/>\n"
            ],
            "text/plain": [
              "<IPython.core.display.HTML object>"
            ]
          },
          "metadata": {}
        },
        {
          "output_type": "stream",
          "name": "stderr",
          "text": [
            "\u001b[34m\u001b[1mwandb\u001b[0m: Agent Starting Run: pfki3ut6 with config:\n",
            "\u001b[34m\u001b[1mwandb\u001b[0m: \tmax_depth: 4\n",
            "\u001b[34m\u001b[1mwandb\u001b[0m: \tn_estimators: 800\n",
            "\u001b[34m\u001b[1mwandb\u001b[0m: \tnum_leaves: 15\n"
          ]
        },
        {
          "output_type": "display_data",
          "data": {
            "text/html": [
              "\n",
              "                    Syncing run <strong><a href=\"https://wandb.ai/clau/california-housing-sweeps/runs/pfki3ut6\" target=\"_blank\">glad-sweep-16</a></strong> to <a href=\"https://wandb.ai/clau/california-housing-sweeps\" target=\"_blank\">Weights & Biases</a> (<a href=\"https://docs.wandb.com/integrations/jupyter.html\" target=\"_blank\">docs</a>).<br/>\n",
              "Sweep page: <a href=\"https://wandb.ai/clau/california-housing-sweeps/sweeps/zhlex3q9\" target=\"_blank\">https://wandb.ai/clau/california-housing-sweeps/sweeps/zhlex3q9</a><br/>\n",
              "\n",
              "                "
            ],
            "text/plain": [
              "<IPython.core.display.HTML object>"
            ]
          },
          "metadata": {}
        },
        {
          "output_type": "stream",
          "name": "stdout",
          "text": [
            "MAE: 0.2946, MSE: 0.1964\n"
          ]
        },
        {
          "output_type": "display_data",
          "data": {
            "text/html": [
              "<br/>Waiting for W&B process to finish, PID 11233... <strong style=\"color:green\">(success).</strong>"
            ],
            "text/plain": [
              "<IPython.core.display.HTML object>"
            ]
          },
          "metadata": {}
        },
        {
          "output_type": "display_data",
          "data": {
            "application/vnd.jupyter.widget-view+json": {
              "model_id": "1d766761246a4596a22589e04341c474",
              "version_minor": 0,
              "version_major": 2
            },
            "text/plain": [
              "VBox(children=(Label(value=' 0.00MB of 0.00MB uploaded (0.00MB deduped)\\r'), FloatProgress(value=1.0, max=1.0)…"
            ]
          },
          "metadata": {}
        },
        {
          "output_type": "display_data",
          "data": {
            "text/html": [
              "<style>\n",
              "    table.wandb td:nth-child(1) { padding: 0 10px; text-align: right }\n",
              "    .wandb-row { display: flex; flex-direction: row; flex-wrap: wrap; width: 100% }\n",
              "    .wandb-col { display: flex; flex-direction: column; flex-basis: 100%; flex: 1; padding: 10px; }\n",
              "    </style>\n",
              "<div class=\"wandb-row\"><div class=\"wandb-col\">\n",
              "<h3>Run history:</h3><br/><table class=\"wandb\"><tr><td>mae</td><td>▁</td></tr><tr><td>mse</td><td>▁</td></tr></table><br/></div><div class=\"wandb-col\">\n",
              "<h3>Run summary:</h3><br/><table class=\"wandb\"><tr><td>mae</td><td>0.29456</td></tr><tr><td>mse</td><td>0.19639</td></tr></table>\n",
              "</div></div>\n",
              "Synced 5 W&B file(s), 0 media file(s), 0 artifact file(s) and 0 other file(s)\n",
              "<br/>Synced <strong style=\"color:#cdcd00\">glad-sweep-16</strong>: <a href=\"https://wandb.ai/clau/california-housing-sweeps/runs/pfki3ut6\" target=\"_blank\">https://wandb.ai/clau/california-housing-sweeps/runs/pfki3ut6</a><br/>\n",
              "Find logs at: <code>./wandb/run-20211013_233115-pfki3ut6/logs</code><br/>\n"
            ],
            "text/plain": [
              "<IPython.core.display.HTML object>"
            ]
          },
          "metadata": {}
        },
        {
          "output_type": "stream",
          "name": "stderr",
          "text": [
            "\u001b[34m\u001b[1mwandb\u001b[0m: Agent Starting Run: l3m1bhmo with config:\n",
            "\u001b[34m\u001b[1mwandb\u001b[0m: \tmax_depth: 4\n",
            "\u001b[34m\u001b[1mwandb\u001b[0m: \tn_estimators: 800\n",
            "\u001b[34m\u001b[1mwandb\u001b[0m: \tnum_leaves: 23\n"
          ]
        },
        {
          "output_type": "display_data",
          "data": {
            "text/html": [
              "\n",
              "                    Syncing run <strong><a href=\"https://wandb.ai/clau/california-housing-sweeps/runs/l3m1bhmo\" target=\"_blank\">gallant-sweep-17</a></strong> to <a href=\"https://wandb.ai/clau/california-housing-sweeps\" target=\"_blank\">Weights & Biases</a> (<a href=\"https://docs.wandb.com/integrations/jupyter.html\" target=\"_blank\">docs</a>).<br/>\n",
              "Sweep page: <a href=\"https://wandb.ai/clau/california-housing-sweeps/sweeps/zhlex3q9\" target=\"_blank\">https://wandb.ai/clau/california-housing-sweeps/sweeps/zhlex3q9</a><br/>\n",
              "\n",
              "                "
            ],
            "text/plain": [
              "<IPython.core.display.HTML object>"
            ]
          },
          "metadata": {}
        },
        {
          "output_type": "stream",
          "name": "stdout",
          "text": [
            "MAE: 0.2944, MSE: 0.1962\n"
          ]
        },
        {
          "output_type": "display_data",
          "data": {
            "text/html": [
              "<br/>Waiting for W&B process to finish, PID 11269... <strong style=\"color:green\">(success).</strong>"
            ],
            "text/plain": [
              "<IPython.core.display.HTML object>"
            ]
          },
          "metadata": {}
        },
        {
          "output_type": "display_data",
          "data": {
            "application/vnd.jupyter.widget-view+json": {
              "model_id": "2683cc40c1f54d568c322c9fef346f6a",
              "version_minor": 0,
              "version_major": 2
            },
            "text/plain": [
              "VBox(children=(Label(value=' 0.00MB of 0.00MB uploaded (0.00MB deduped)\\r'), FloatProgress(value=1.0, max=1.0)…"
            ]
          },
          "metadata": {}
        },
        {
          "output_type": "display_data",
          "data": {
            "text/html": [
              "<style>\n",
              "    table.wandb td:nth-child(1) { padding: 0 10px; text-align: right }\n",
              "    .wandb-row { display: flex; flex-direction: row; flex-wrap: wrap; width: 100% }\n",
              "    .wandb-col { display: flex; flex-direction: column; flex-basis: 100%; flex: 1; padding: 10px; }\n",
              "    </style>\n",
              "<div class=\"wandb-row\"><div class=\"wandb-col\">\n",
              "<h3>Run history:</h3><br/><table class=\"wandb\"><tr><td>mae</td><td>▁</td></tr><tr><td>mse</td><td>▁</td></tr></table><br/></div><div class=\"wandb-col\">\n",
              "<h3>Run summary:</h3><br/><table class=\"wandb\"><tr><td>mae</td><td>0.29443</td></tr><tr><td>mse</td><td>0.19616</td></tr></table>\n",
              "</div></div>\n",
              "Synced 5 W&B file(s), 0 media file(s), 0 artifact file(s) and 0 other file(s)\n",
              "<br/>Synced <strong style=\"color:#cdcd00\">gallant-sweep-17</strong>: <a href=\"https://wandb.ai/clau/california-housing-sweeps/runs/l3m1bhmo\" target=\"_blank\">https://wandb.ai/clau/california-housing-sweeps/runs/l3m1bhmo</a><br/>\n",
              "Find logs at: <code>./wandb/run-20211013_233123-l3m1bhmo/logs</code><br/>\n"
            ],
            "text/plain": [
              "<IPython.core.display.HTML object>"
            ]
          },
          "metadata": {}
        },
        {
          "output_type": "stream",
          "name": "stderr",
          "text": [
            "\u001b[34m\u001b[1mwandb\u001b[0m: Agent Starting Run: 3g1hfwvj with config:\n",
            "\u001b[34m\u001b[1mwandb\u001b[0m: \tmax_depth: 4\n",
            "\u001b[34m\u001b[1mwandb\u001b[0m: \tn_estimators: 800\n",
            "\u001b[34m\u001b[1mwandb\u001b[0m: \tnum_leaves: 31\n"
          ]
        },
        {
          "output_type": "display_data",
          "data": {
            "text/html": [
              "\n",
              "                    Syncing run <strong><a href=\"https://wandb.ai/clau/california-housing-sweeps/runs/3g1hfwvj\" target=\"_blank\">royal-sweep-18</a></strong> to <a href=\"https://wandb.ai/clau/california-housing-sweeps\" target=\"_blank\">Weights & Biases</a> (<a href=\"https://docs.wandb.com/integrations/jupyter.html\" target=\"_blank\">docs</a>).<br/>\n",
              "Sweep page: <a href=\"https://wandb.ai/clau/california-housing-sweeps/sweeps/zhlex3q9\" target=\"_blank\">https://wandb.ai/clau/california-housing-sweeps/sweeps/zhlex3q9</a><br/>\n",
              "\n",
              "                "
            ],
            "text/plain": [
              "<IPython.core.display.HTML object>"
            ]
          },
          "metadata": {}
        },
        {
          "output_type": "stream",
          "name": "stdout",
          "text": [
            "MAE: 0.2944, MSE: 0.1962\n"
          ]
        },
        {
          "output_type": "display_data",
          "data": {
            "text/html": [
              "<br/>Waiting for W&B process to finish, PID 11305... <strong style=\"color:green\">(success).</strong>"
            ],
            "text/plain": [
              "<IPython.core.display.HTML object>"
            ]
          },
          "metadata": {}
        },
        {
          "output_type": "display_data",
          "data": {
            "application/vnd.jupyter.widget-view+json": {
              "model_id": "f64fb4db2f624ecea5d016a91f11d087",
              "version_minor": 0,
              "version_major": 2
            },
            "text/plain": [
              "VBox(children=(Label(value=' 0.00MB of 0.00MB uploaded (0.00MB deduped)\\r'), FloatProgress(value=1.0, max=1.0)…"
            ]
          },
          "metadata": {}
        },
        {
          "output_type": "display_data",
          "data": {
            "text/html": [
              "<style>\n",
              "    table.wandb td:nth-child(1) { padding: 0 10px; text-align: right }\n",
              "    .wandb-row { display: flex; flex-direction: row; flex-wrap: wrap; width: 100% }\n",
              "    .wandb-col { display: flex; flex-direction: column; flex-basis: 100%; flex: 1; padding: 10px; }\n",
              "    </style>\n",
              "<div class=\"wandb-row\"><div class=\"wandb-col\">\n",
              "<h3>Run history:</h3><br/><table class=\"wandb\"><tr><td>mae</td><td>▁</td></tr><tr><td>mse</td><td>▁</td></tr></table><br/></div><div class=\"wandb-col\">\n",
              "<h3>Run summary:</h3><br/><table class=\"wandb\"><tr><td>mae</td><td>0.29443</td></tr><tr><td>mse</td><td>0.19616</td></tr></table>\n",
              "</div></div>\n",
              "Synced 5 W&B file(s), 0 media file(s), 0 artifact file(s) and 0 other file(s)\n",
              "<br/>Synced <strong style=\"color:#cdcd00\">royal-sweep-18</strong>: <a href=\"https://wandb.ai/clau/california-housing-sweeps/runs/3g1hfwvj\" target=\"_blank\">https://wandb.ai/clau/california-housing-sweeps/runs/3g1hfwvj</a><br/>\n",
              "Find logs at: <code>./wandb/run-20211013_233132-3g1hfwvj/logs</code><br/>\n"
            ],
            "text/plain": [
              "<IPython.core.display.HTML object>"
            ]
          },
          "metadata": {}
        },
        {
          "output_type": "stream",
          "name": "stderr",
          "text": [
            "\u001b[34m\u001b[1mwandb\u001b[0m: Agent Starting Run: das11u2l with config:\n",
            "\u001b[34m\u001b[1mwandb\u001b[0m: \tmax_depth: 4\n",
            "\u001b[34m\u001b[1mwandb\u001b[0m: \tn_estimators: 800\n",
            "\u001b[34m\u001b[1mwandb\u001b[0m: \tnum_leaves: 63\n"
          ]
        },
        {
          "output_type": "display_data",
          "data": {
            "text/html": [
              "\n",
              "                    Syncing run <strong><a href=\"https://wandb.ai/clau/california-housing-sweeps/runs/das11u2l\" target=\"_blank\">royal-sweep-19</a></strong> to <a href=\"https://wandb.ai/clau/california-housing-sweeps\" target=\"_blank\">Weights & Biases</a> (<a href=\"https://docs.wandb.com/integrations/jupyter.html\" target=\"_blank\">docs</a>).<br/>\n",
              "Sweep page: <a href=\"https://wandb.ai/clau/california-housing-sweeps/sweeps/zhlex3q9\" target=\"_blank\">https://wandb.ai/clau/california-housing-sweeps/sweeps/zhlex3q9</a><br/>\n",
              "\n",
              "                "
            ],
            "text/plain": [
              "<IPython.core.display.HTML object>"
            ]
          },
          "metadata": {}
        },
        {
          "output_type": "stream",
          "name": "stdout",
          "text": [
            "MAE: 0.2944, MSE: 0.1962\n"
          ]
        },
        {
          "output_type": "display_data",
          "data": {
            "text/html": [
              "<br/>Waiting for W&B process to finish, PID 11341... <strong style=\"color:green\">(success).</strong>"
            ],
            "text/plain": [
              "<IPython.core.display.HTML object>"
            ]
          },
          "metadata": {}
        },
        {
          "output_type": "display_data",
          "data": {
            "application/vnd.jupyter.widget-view+json": {
              "model_id": "ec4738beec40487cbf14fe5c52d4d1b6",
              "version_minor": 0,
              "version_major": 2
            },
            "text/plain": [
              "VBox(children=(Label(value=' 0.00MB of 0.00MB uploaded (0.00MB deduped)\\r'), FloatProgress(value=1.0, max=1.0)…"
            ]
          },
          "metadata": {}
        },
        {
          "output_type": "display_data",
          "data": {
            "text/html": [
              "<style>\n",
              "    table.wandb td:nth-child(1) { padding: 0 10px; text-align: right }\n",
              "    .wandb-row { display: flex; flex-direction: row; flex-wrap: wrap; width: 100% }\n",
              "    .wandb-col { display: flex; flex-direction: column; flex-basis: 100%; flex: 1; padding: 10px; }\n",
              "    </style>\n",
              "<div class=\"wandb-row\"><div class=\"wandb-col\">\n",
              "<h3>Run history:</h3><br/><table class=\"wandb\"><tr><td>mae</td><td>▁</td></tr><tr><td>mse</td><td>▁</td></tr></table><br/></div><div class=\"wandb-col\">\n",
              "<h3>Run summary:</h3><br/><table class=\"wandb\"><tr><td>mae</td><td>0.29443</td></tr><tr><td>mse</td><td>0.19616</td></tr></table>\n",
              "</div></div>\n",
              "Synced 5 W&B file(s), 0 media file(s), 0 artifact file(s) and 0 other file(s)\n",
              "<br/>Synced <strong style=\"color:#cdcd00\">royal-sweep-19</strong>: <a href=\"https://wandb.ai/clau/california-housing-sweeps/runs/das11u2l\" target=\"_blank\">https://wandb.ai/clau/california-housing-sweeps/runs/das11u2l</a><br/>\n",
              "Find logs at: <code>./wandb/run-20211013_233141-das11u2l/logs</code><br/>\n"
            ],
            "text/plain": [
              "<IPython.core.display.HTML object>"
            ]
          },
          "metadata": {}
        },
        {
          "output_type": "stream",
          "name": "stderr",
          "text": [
            "\u001b[34m\u001b[1mwandb\u001b[0m: Agent Starting Run: q3g62cri with config:\n",
            "\u001b[34m\u001b[1mwandb\u001b[0m: \tmax_depth: 4\n",
            "\u001b[34m\u001b[1mwandb\u001b[0m: \tn_estimators: 800\n",
            "\u001b[34m\u001b[1mwandb\u001b[0m: \tnum_leaves: 100\n"
          ]
        },
        {
          "output_type": "display_data",
          "data": {
            "text/html": [
              "\n",
              "                    Syncing run <strong><a href=\"https://wandb.ai/clau/california-housing-sweeps/runs/q3g62cri\" target=\"_blank\">cool-sweep-20</a></strong> to <a href=\"https://wandb.ai/clau/california-housing-sweeps\" target=\"_blank\">Weights & Biases</a> (<a href=\"https://docs.wandb.com/integrations/jupyter.html\" target=\"_blank\">docs</a>).<br/>\n",
              "Sweep page: <a href=\"https://wandb.ai/clau/california-housing-sweeps/sweeps/zhlex3q9\" target=\"_blank\">https://wandb.ai/clau/california-housing-sweeps/sweeps/zhlex3q9</a><br/>\n",
              "\n",
              "                "
            ],
            "text/plain": [
              "<IPython.core.display.HTML object>"
            ]
          },
          "metadata": {}
        },
        {
          "output_type": "stream",
          "name": "stdout",
          "text": [
            "MAE: 0.2944, MSE: 0.1962\n"
          ]
        },
        {
          "output_type": "display_data",
          "data": {
            "text/html": [
              "<br/>Waiting for W&B process to finish, PID 11377... <strong style=\"color:green\">(success).</strong>"
            ],
            "text/plain": [
              "<IPython.core.display.HTML object>"
            ]
          },
          "metadata": {}
        },
        {
          "output_type": "display_data",
          "data": {
            "application/vnd.jupyter.widget-view+json": {
              "model_id": "d44a1823a89e43328c1d7b6d0ec85934",
              "version_minor": 0,
              "version_major": 2
            },
            "text/plain": [
              "VBox(children=(Label(value=' 0.00MB of 0.00MB uploaded (0.00MB deduped)\\r'), FloatProgress(value=1.0, max=1.0)…"
            ]
          },
          "metadata": {}
        },
        {
          "output_type": "display_data",
          "data": {
            "text/html": [
              "<style>\n",
              "    table.wandb td:nth-child(1) { padding: 0 10px; text-align: right }\n",
              "    .wandb-row { display: flex; flex-direction: row; flex-wrap: wrap; width: 100% }\n",
              "    .wandb-col { display: flex; flex-direction: column; flex-basis: 100%; flex: 1; padding: 10px; }\n",
              "    </style>\n",
              "<div class=\"wandb-row\"><div class=\"wandb-col\">\n",
              "<h3>Run history:</h3><br/><table class=\"wandb\"><tr><td>mae</td><td>▁</td></tr><tr><td>mse</td><td>▁</td></tr></table><br/></div><div class=\"wandb-col\">\n",
              "<h3>Run summary:</h3><br/><table class=\"wandb\"><tr><td>mae</td><td>0.29443</td></tr><tr><td>mse</td><td>0.19616</td></tr></table>\n",
              "</div></div>\n",
              "Synced 5 W&B file(s), 0 media file(s), 0 artifact file(s) and 0 other file(s)\n",
              "<br/>Synced <strong style=\"color:#cdcd00\">cool-sweep-20</strong>: <a href=\"https://wandb.ai/clau/california-housing-sweeps/runs/q3g62cri\" target=\"_blank\">https://wandb.ai/clau/california-housing-sweeps/runs/q3g62cri</a><br/>\n",
              "Find logs at: <code>./wandb/run-20211013_233150-q3g62cri/logs</code><br/>\n"
            ],
            "text/plain": [
              "<IPython.core.display.HTML object>"
            ]
          },
          "metadata": {}
        },
        {
          "output_type": "stream",
          "name": "stderr",
          "text": [
            "\u001b[34m\u001b[1mwandb\u001b[0m: Agent Starting Run: l20z8u8i with config:\n",
            "\u001b[34m\u001b[1mwandb\u001b[0m: \tmax_depth: 4\n",
            "\u001b[34m\u001b[1mwandb\u001b[0m: \tn_estimators: 1000\n",
            "\u001b[34m\u001b[1mwandb\u001b[0m: \tnum_leaves: 15\n"
          ]
        },
        {
          "output_type": "display_data",
          "data": {
            "text/html": [
              "\n",
              "                    Syncing run <strong><a href=\"https://wandb.ai/clau/california-housing-sweeps/runs/l20z8u8i\" target=\"_blank\">trim-sweep-21</a></strong> to <a href=\"https://wandb.ai/clau/california-housing-sweeps\" target=\"_blank\">Weights & Biases</a> (<a href=\"https://docs.wandb.com/integrations/jupyter.html\" target=\"_blank\">docs</a>).<br/>\n",
              "Sweep page: <a href=\"https://wandb.ai/clau/california-housing-sweeps/sweeps/zhlex3q9\" target=\"_blank\">https://wandb.ai/clau/california-housing-sweeps/sweeps/zhlex3q9</a><br/>\n",
              "\n",
              "                "
            ],
            "text/plain": [
              "<IPython.core.display.HTML object>"
            ]
          },
          "metadata": {}
        },
        {
          "output_type": "stream",
          "name": "stdout",
          "text": [
            "MAE: 0.2928, MSE: 0.1952\n"
          ]
        },
        {
          "output_type": "display_data",
          "data": {
            "text/html": [
              "<br/>Waiting for W&B process to finish, PID 11413... <strong style=\"color:green\">(success).</strong>"
            ],
            "text/plain": [
              "<IPython.core.display.HTML object>"
            ]
          },
          "metadata": {}
        },
        {
          "output_type": "display_data",
          "data": {
            "application/vnd.jupyter.widget-view+json": {
              "model_id": "dc534caa10ed48ea90e9845ef1895513",
              "version_minor": 0,
              "version_major": 2
            },
            "text/plain": [
              "VBox(children=(Label(value=' 0.00MB of 0.00MB uploaded (0.00MB deduped)\\r'), FloatProgress(value=1.0, max=1.0)…"
            ]
          },
          "metadata": {}
        },
        {
          "output_type": "display_data",
          "data": {
            "text/html": [
              "<style>\n",
              "    table.wandb td:nth-child(1) { padding: 0 10px; text-align: right }\n",
              "    .wandb-row { display: flex; flex-direction: row; flex-wrap: wrap; width: 100% }\n",
              "    .wandb-col { display: flex; flex-direction: column; flex-basis: 100%; flex: 1; padding: 10px; }\n",
              "    </style>\n",
              "<div class=\"wandb-row\"><div class=\"wandb-col\">\n",
              "<h3>Run history:</h3><br/><table class=\"wandb\"><tr><td>mae</td><td>▁</td></tr><tr><td>mse</td><td>▁</td></tr></table><br/></div><div class=\"wandb-col\">\n",
              "<h3>Run summary:</h3><br/><table class=\"wandb\"><tr><td>mae</td><td>0.29278</td></tr><tr><td>mse</td><td>0.19521</td></tr></table>\n",
              "</div></div>\n",
              "Synced 5 W&B file(s), 0 media file(s), 0 artifact file(s) and 0 other file(s)\n",
              "<br/>Synced <strong style=\"color:#cdcd00\">trim-sweep-21</strong>: <a href=\"https://wandb.ai/clau/california-housing-sweeps/runs/l20z8u8i\" target=\"_blank\">https://wandb.ai/clau/california-housing-sweeps/runs/l20z8u8i</a><br/>\n",
              "Find logs at: <code>./wandb/run-20211013_233158-l20z8u8i/logs</code><br/>\n"
            ],
            "text/plain": [
              "<IPython.core.display.HTML object>"
            ]
          },
          "metadata": {}
        },
        {
          "output_type": "stream",
          "name": "stderr",
          "text": [
            "\u001b[34m\u001b[1mwandb\u001b[0m: Agent Starting Run: j9478cr1 with config:\n",
            "\u001b[34m\u001b[1mwandb\u001b[0m: \tmax_depth: 4\n",
            "\u001b[34m\u001b[1mwandb\u001b[0m: \tn_estimators: 1000\n",
            "\u001b[34m\u001b[1mwandb\u001b[0m: \tnum_leaves: 23\n"
          ]
        },
        {
          "output_type": "display_data",
          "data": {
            "text/html": [
              "\n",
              "                    Syncing run <strong><a href=\"https://wandb.ai/clau/california-housing-sweeps/runs/j9478cr1\" target=\"_blank\">rose-sweep-22</a></strong> to <a href=\"https://wandb.ai/clau/california-housing-sweeps\" target=\"_blank\">Weights & Biases</a> (<a href=\"https://docs.wandb.com/integrations/jupyter.html\" target=\"_blank\">docs</a>).<br/>\n",
              "Sweep page: <a href=\"https://wandb.ai/clau/california-housing-sweeps/sweeps/zhlex3q9\" target=\"_blank\">https://wandb.ai/clau/california-housing-sweeps/sweeps/zhlex3q9</a><br/>\n",
              "\n",
              "                "
            ],
            "text/plain": [
              "<IPython.core.display.HTML object>"
            ]
          },
          "metadata": {}
        },
        {
          "output_type": "stream",
          "name": "stdout",
          "text": [
            "MAE: 0.2925, MSE: 0.1948\n"
          ]
        },
        {
          "output_type": "display_data",
          "data": {
            "text/html": [
              "<br/>Waiting for W&B process to finish, PID 11449... <strong style=\"color:green\">(success).</strong>"
            ],
            "text/plain": [
              "<IPython.core.display.HTML object>"
            ]
          },
          "metadata": {}
        },
        {
          "output_type": "display_data",
          "data": {
            "application/vnd.jupyter.widget-view+json": {
              "model_id": "2a700ba53e614ad1b6e4fe8f5cf63dbf",
              "version_minor": 0,
              "version_major": 2
            },
            "text/plain": [
              "VBox(children=(Label(value=' 0.00MB of 0.00MB uploaded (0.00MB deduped)\\r'), FloatProgress(value=1.0, max=1.0)…"
            ]
          },
          "metadata": {}
        },
        {
          "output_type": "display_data",
          "data": {
            "text/html": [
              "<style>\n",
              "    table.wandb td:nth-child(1) { padding: 0 10px; text-align: right }\n",
              "    .wandb-row { display: flex; flex-direction: row; flex-wrap: wrap; width: 100% }\n",
              "    .wandb-col { display: flex; flex-direction: column; flex-basis: 100%; flex: 1; padding: 10px; }\n",
              "    </style>\n",
              "<div class=\"wandb-row\"><div class=\"wandb-col\">\n",
              "<h3>Run history:</h3><br/><table class=\"wandb\"><tr><td>mae</td><td>▁</td></tr><tr><td>mse</td><td>▁</td></tr></table><br/></div><div class=\"wandb-col\">\n",
              "<h3>Run summary:</h3><br/><table class=\"wandb\"><tr><td>mae</td><td>0.29249</td></tr><tr><td>mse</td><td>0.19477</td></tr></table>\n",
              "</div></div>\n",
              "Synced 5 W&B file(s), 0 media file(s), 0 artifact file(s) and 0 other file(s)\n",
              "<br/>Synced <strong style=\"color:#cdcd00\">rose-sweep-22</strong>: <a href=\"https://wandb.ai/clau/california-housing-sweeps/runs/j9478cr1\" target=\"_blank\">https://wandb.ai/clau/california-housing-sweeps/runs/j9478cr1</a><br/>\n",
              "Find logs at: <code>./wandb/run-20211013_233207-j9478cr1/logs</code><br/>\n"
            ],
            "text/plain": [
              "<IPython.core.display.HTML object>"
            ]
          },
          "metadata": {}
        },
        {
          "output_type": "stream",
          "name": "stderr",
          "text": [
            "\u001b[34m\u001b[1mwandb\u001b[0m: Agent Starting Run: zycfdrar with config:\n",
            "\u001b[34m\u001b[1mwandb\u001b[0m: \tmax_depth: 4\n",
            "\u001b[34m\u001b[1mwandb\u001b[0m: \tn_estimators: 1000\n",
            "\u001b[34m\u001b[1mwandb\u001b[0m: \tnum_leaves: 31\n"
          ]
        },
        {
          "output_type": "display_data",
          "data": {
            "text/html": [
              "\n",
              "                    Syncing run <strong><a href=\"https://wandb.ai/clau/california-housing-sweeps/runs/zycfdrar\" target=\"_blank\">smooth-sweep-23</a></strong> to <a href=\"https://wandb.ai/clau/california-housing-sweeps\" target=\"_blank\">Weights & Biases</a> (<a href=\"https://docs.wandb.com/integrations/jupyter.html\" target=\"_blank\">docs</a>).<br/>\n",
              "Sweep page: <a href=\"https://wandb.ai/clau/california-housing-sweeps/sweeps/zhlex3q9\" target=\"_blank\">https://wandb.ai/clau/california-housing-sweeps/sweeps/zhlex3q9</a><br/>\n",
              "\n",
              "                "
            ],
            "text/plain": [
              "<IPython.core.display.HTML object>"
            ]
          },
          "metadata": {}
        },
        {
          "output_type": "stream",
          "name": "stdout",
          "text": [
            "MAE: 0.2925, MSE: 0.1948\n"
          ]
        },
        {
          "output_type": "display_data",
          "data": {
            "text/html": [
              "<br/>Waiting for W&B process to finish, PID 11485... <strong style=\"color:green\">(success).</strong>"
            ],
            "text/plain": [
              "<IPython.core.display.HTML object>"
            ]
          },
          "metadata": {}
        },
        {
          "output_type": "display_data",
          "data": {
            "application/vnd.jupyter.widget-view+json": {
              "model_id": "f9446b55825d4a9eb53a000030b6436f",
              "version_minor": 0,
              "version_major": 2
            },
            "text/plain": [
              "VBox(children=(Label(value=' 0.00MB of 0.00MB uploaded (0.00MB deduped)\\r'), FloatProgress(value=1.0, max=1.0)…"
            ]
          },
          "metadata": {}
        },
        {
          "output_type": "display_data",
          "data": {
            "text/html": [
              "<style>\n",
              "    table.wandb td:nth-child(1) { padding: 0 10px; text-align: right }\n",
              "    .wandb-row { display: flex; flex-direction: row; flex-wrap: wrap; width: 100% }\n",
              "    .wandb-col { display: flex; flex-direction: column; flex-basis: 100%; flex: 1; padding: 10px; }\n",
              "    </style>\n",
              "<div class=\"wandb-row\"><div class=\"wandb-col\">\n",
              "<h3>Run history:</h3><br/><table class=\"wandb\"><tr><td>mae</td><td>▁</td></tr><tr><td>mse</td><td>▁</td></tr></table><br/></div><div class=\"wandb-col\">\n",
              "<h3>Run summary:</h3><br/><table class=\"wandb\"><tr><td>mae</td><td>0.29249</td></tr><tr><td>mse</td><td>0.19477</td></tr></table>\n",
              "</div></div>\n",
              "Synced 5 W&B file(s), 0 media file(s), 0 artifact file(s) and 0 other file(s)\n",
              "<br/>Synced <strong style=\"color:#cdcd00\">smooth-sweep-23</strong>: <a href=\"https://wandb.ai/clau/california-housing-sweeps/runs/zycfdrar\" target=\"_blank\">https://wandb.ai/clau/california-housing-sweeps/runs/zycfdrar</a><br/>\n",
              "Find logs at: <code>./wandb/run-20211013_233216-zycfdrar/logs</code><br/>\n"
            ],
            "text/plain": [
              "<IPython.core.display.HTML object>"
            ]
          },
          "metadata": {}
        },
        {
          "output_type": "stream",
          "name": "stderr",
          "text": [
            "\u001b[34m\u001b[1mwandb\u001b[0m: Agent Starting Run: w4oqkm1l with config:\n",
            "\u001b[34m\u001b[1mwandb\u001b[0m: \tmax_depth: 4\n",
            "\u001b[34m\u001b[1mwandb\u001b[0m: \tn_estimators: 1000\n",
            "\u001b[34m\u001b[1mwandb\u001b[0m: \tnum_leaves: 63\n"
          ]
        },
        {
          "output_type": "display_data",
          "data": {
            "text/html": [
              "\n",
              "                    Syncing run <strong><a href=\"https://wandb.ai/clau/california-housing-sweeps/runs/w4oqkm1l\" target=\"_blank\">serene-sweep-24</a></strong> to <a href=\"https://wandb.ai/clau/california-housing-sweeps\" target=\"_blank\">Weights & Biases</a> (<a href=\"https://docs.wandb.com/integrations/jupyter.html\" target=\"_blank\">docs</a>).<br/>\n",
              "Sweep page: <a href=\"https://wandb.ai/clau/california-housing-sweeps/sweeps/zhlex3q9\" target=\"_blank\">https://wandb.ai/clau/california-housing-sweeps/sweeps/zhlex3q9</a><br/>\n",
              "\n",
              "                "
            ],
            "text/plain": [
              "<IPython.core.display.HTML object>"
            ]
          },
          "metadata": {}
        },
        {
          "output_type": "stream",
          "name": "stdout",
          "text": [
            "MAE: 0.2925, MSE: 0.1948\n"
          ]
        },
        {
          "output_type": "display_data",
          "data": {
            "text/html": [
              "<br/>Waiting for W&B process to finish, PID 11521... <strong style=\"color:green\">(success).</strong>"
            ],
            "text/plain": [
              "<IPython.core.display.HTML object>"
            ]
          },
          "metadata": {}
        },
        {
          "output_type": "display_data",
          "data": {
            "application/vnd.jupyter.widget-view+json": {
              "model_id": "95d0edae2a8c4126b7025aa46919cf85",
              "version_minor": 0,
              "version_major": 2
            },
            "text/plain": [
              "VBox(children=(Label(value=' 0.00MB of 0.00MB uploaded (0.00MB deduped)\\r'), FloatProgress(value=1.0, max=1.0)…"
            ]
          },
          "metadata": {}
        },
        {
          "output_type": "display_data",
          "data": {
            "text/html": [
              "<style>\n",
              "    table.wandb td:nth-child(1) { padding: 0 10px; text-align: right }\n",
              "    .wandb-row { display: flex; flex-direction: row; flex-wrap: wrap; width: 100% }\n",
              "    .wandb-col { display: flex; flex-direction: column; flex-basis: 100%; flex: 1; padding: 10px; }\n",
              "    </style>\n",
              "<div class=\"wandb-row\"><div class=\"wandb-col\">\n",
              "<h3>Run history:</h3><br/><table class=\"wandb\"><tr><td>mae</td><td>▁</td></tr><tr><td>mse</td><td>▁</td></tr></table><br/></div><div class=\"wandb-col\">\n",
              "<h3>Run summary:</h3><br/><table class=\"wandb\"><tr><td>mae</td><td>0.29249</td></tr><tr><td>mse</td><td>0.19477</td></tr></table>\n",
              "</div></div>\n",
              "Synced 5 W&B file(s), 0 media file(s), 0 artifact file(s) and 0 other file(s)\n",
              "<br/>Synced <strong style=\"color:#cdcd00\">serene-sweep-24</strong>: <a href=\"https://wandb.ai/clau/california-housing-sweeps/runs/w4oqkm1l\" target=\"_blank\">https://wandb.ai/clau/california-housing-sweeps/runs/w4oqkm1l</a><br/>\n",
              "Find logs at: <code>./wandb/run-20211013_233225-w4oqkm1l/logs</code><br/>\n"
            ],
            "text/plain": [
              "<IPython.core.display.HTML object>"
            ]
          },
          "metadata": {}
        },
        {
          "output_type": "stream",
          "name": "stderr",
          "text": [
            "\u001b[34m\u001b[1mwandb\u001b[0m: Agent Starting Run: 1f2z85x4 with config:\n",
            "\u001b[34m\u001b[1mwandb\u001b[0m: \tmax_depth: 4\n",
            "\u001b[34m\u001b[1mwandb\u001b[0m: \tn_estimators: 1000\n",
            "\u001b[34m\u001b[1mwandb\u001b[0m: \tnum_leaves: 100\n"
          ]
        },
        {
          "output_type": "display_data",
          "data": {
            "text/html": [
              "\n",
              "                    Syncing run <strong><a href=\"https://wandb.ai/clau/california-housing-sweeps/runs/1f2z85x4\" target=\"_blank\">gentle-sweep-25</a></strong> to <a href=\"https://wandb.ai/clau/california-housing-sweeps\" target=\"_blank\">Weights & Biases</a> (<a href=\"https://docs.wandb.com/integrations/jupyter.html\" target=\"_blank\">docs</a>).<br/>\n",
              "Sweep page: <a href=\"https://wandb.ai/clau/california-housing-sweeps/sweeps/zhlex3q9\" target=\"_blank\">https://wandb.ai/clau/california-housing-sweeps/sweeps/zhlex3q9</a><br/>\n",
              "\n",
              "                "
            ],
            "text/plain": [
              "<IPython.core.display.HTML object>"
            ]
          },
          "metadata": {}
        },
        {
          "output_type": "stream",
          "name": "stdout",
          "text": [
            "MAE: 0.2925, MSE: 0.1948\n"
          ]
        },
        {
          "output_type": "display_data",
          "data": {
            "text/html": [
              "<br/>Waiting for W&B process to finish, PID 11557... <strong style=\"color:green\">(success).</strong>"
            ],
            "text/plain": [
              "<IPython.core.display.HTML object>"
            ]
          },
          "metadata": {}
        },
        {
          "output_type": "display_data",
          "data": {
            "application/vnd.jupyter.widget-view+json": {
              "model_id": "27ef54ea14644e3abd74d28546eeb681",
              "version_minor": 0,
              "version_major": 2
            },
            "text/plain": [
              "VBox(children=(Label(value=' 0.00MB of 0.00MB uploaded (0.00MB deduped)\\r'), FloatProgress(value=1.0, max=1.0)…"
            ]
          },
          "metadata": {}
        },
        {
          "output_type": "display_data",
          "data": {
            "text/html": [
              "<style>\n",
              "    table.wandb td:nth-child(1) { padding: 0 10px; text-align: right }\n",
              "    .wandb-row { display: flex; flex-direction: row; flex-wrap: wrap; width: 100% }\n",
              "    .wandb-col { display: flex; flex-direction: column; flex-basis: 100%; flex: 1; padding: 10px; }\n",
              "    </style>\n",
              "<div class=\"wandb-row\"><div class=\"wandb-col\">\n",
              "<h3>Run history:</h3><br/><table class=\"wandb\"><tr><td>mae</td><td>▁</td></tr><tr><td>mse</td><td>▁</td></tr></table><br/></div><div class=\"wandb-col\">\n",
              "<h3>Run summary:</h3><br/><table class=\"wandb\"><tr><td>mae</td><td>0.29249</td></tr><tr><td>mse</td><td>0.19477</td></tr></table>\n",
              "</div></div>\n",
              "Synced 5 W&B file(s), 0 media file(s), 0 artifact file(s) and 0 other file(s)\n",
              "<br/>Synced <strong style=\"color:#cdcd00\">gentle-sweep-25</strong>: <a href=\"https://wandb.ai/clau/california-housing-sweeps/runs/1f2z85x4\" target=\"_blank\">https://wandb.ai/clau/california-housing-sweeps/runs/1f2z85x4</a><br/>\n",
              "Find logs at: <code>./wandb/run-20211013_233236-1f2z85x4/logs</code><br/>\n"
            ],
            "text/plain": [
              "<IPython.core.display.HTML object>"
            ]
          },
          "metadata": {}
        },
        {
          "output_type": "stream",
          "name": "stderr",
          "text": [
            "\u001b[34m\u001b[1mwandb\u001b[0m: Agent Starting Run: wrmahupx with config:\n",
            "\u001b[34m\u001b[1mwandb\u001b[0m: \tmax_depth: 6\n",
            "\u001b[34m\u001b[1mwandb\u001b[0m: \tn_estimators: 100\n",
            "\u001b[34m\u001b[1mwandb\u001b[0m: \tnum_leaves: 15\n"
          ]
        },
        {
          "output_type": "display_data",
          "data": {
            "text/html": [
              "\n",
              "                    Syncing run <strong><a href=\"https://wandb.ai/clau/california-housing-sweeps/runs/wrmahupx\" target=\"_blank\">frosty-sweep-26</a></strong> to <a href=\"https://wandb.ai/clau/california-housing-sweeps\" target=\"_blank\">Weights & Biases</a> (<a href=\"https://docs.wandb.com/integrations/jupyter.html\" target=\"_blank\">docs</a>).<br/>\n",
              "Sweep page: <a href=\"https://wandb.ai/clau/california-housing-sweeps/sweeps/zhlex3q9\" target=\"_blank\">https://wandb.ai/clau/california-housing-sweeps/sweeps/zhlex3q9</a><br/>\n",
              "\n",
              "                "
            ],
            "text/plain": [
              "<IPython.core.display.HTML object>"
            ]
          },
          "metadata": {}
        },
        {
          "output_type": "stream",
          "name": "stdout",
          "text": [
            "MAE: 0.3269, MSE: 0.23\n"
          ]
        },
        {
          "output_type": "display_data",
          "data": {
            "text/html": [
              "<br/>Waiting for W&B process to finish, PID 11593... <strong style=\"color:green\">(success).</strong>"
            ],
            "text/plain": [
              "<IPython.core.display.HTML object>"
            ]
          },
          "metadata": {}
        },
        {
          "output_type": "display_data",
          "data": {
            "application/vnd.jupyter.widget-view+json": {
              "model_id": "be0c1b374f41449a97e8478f77903623",
              "version_minor": 0,
              "version_major": 2
            },
            "text/plain": [
              "VBox(children=(Label(value=' 0.00MB of 0.00MB uploaded (0.00MB deduped)\\r'), FloatProgress(value=1.0, max=1.0)…"
            ]
          },
          "metadata": {}
        },
        {
          "output_type": "display_data",
          "data": {
            "text/html": [
              "<style>\n",
              "    table.wandb td:nth-child(1) { padding: 0 10px; text-align: right }\n",
              "    .wandb-row { display: flex; flex-direction: row; flex-wrap: wrap; width: 100% }\n",
              "    .wandb-col { display: flex; flex-direction: column; flex-basis: 100%; flex: 1; padding: 10px; }\n",
              "    </style>\n",
              "<div class=\"wandb-row\"><div class=\"wandb-col\">\n",
              "<h3>Run history:</h3><br/><table class=\"wandb\"><tr><td>mae</td><td>▁</td></tr><tr><td>mse</td><td>▁</td></tr></table><br/></div><div class=\"wandb-col\">\n",
              "<h3>Run summary:</h3><br/><table class=\"wandb\"><tr><td>mae</td><td>0.32691</td></tr><tr><td>mse</td><td>0.22997</td></tr></table>\n",
              "</div></div>\n",
              "Synced 5 W&B file(s), 0 media file(s), 0 artifact file(s) and 0 other file(s)\n",
              "<br/>Synced <strong style=\"color:#cdcd00\">frosty-sweep-26</strong>: <a href=\"https://wandb.ai/clau/california-housing-sweeps/runs/wrmahupx\" target=\"_blank\">https://wandb.ai/clau/california-housing-sweeps/runs/wrmahupx</a><br/>\n",
              "Find logs at: <code>./wandb/run-20211013_233245-wrmahupx/logs</code><br/>\n"
            ],
            "text/plain": [
              "<IPython.core.display.HTML object>"
            ]
          },
          "metadata": {}
        },
        {
          "output_type": "stream",
          "name": "stderr",
          "text": [
            "\u001b[34m\u001b[1mwandb\u001b[0m: Agent Starting Run: yghdpee2 with config:\n",
            "\u001b[34m\u001b[1mwandb\u001b[0m: \tmax_depth: 6\n",
            "\u001b[34m\u001b[1mwandb\u001b[0m: \tn_estimators: 100\n",
            "\u001b[34m\u001b[1mwandb\u001b[0m: \tnum_leaves: 23\n"
          ]
        },
        {
          "output_type": "display_data",
          "data": {
            "text/html": [
              "\n",
              "                    Syncing run <strong><a href=\"https://wandb.ai/clau/california-housing-sweeps/runs/yghdpee2\" target=\"_blank\">eager-sweep-27</a></strong> to <a href=\"https://wandb.ai/clau/california-housing-sweeps\" target=\"_blank\">Weights & Biases</a> (<a href=\"https://docs.wandb.com/integrations/jupyter.html\" target=\"_blank\">docs</a>).<br/>\n",
              "Sweep page: <a href=\"https://wandb.ai/clau/california-housing-sweeps/sweeps/zhlex3q9\" target=\"_blank\">https://wandb.ai/clau/california-housing-sweeps/sweeps/zhlex3q9</a><br/>\n",
              "\n",
              "                "
            ],
            "text/plain": [
              "<IPython.core.display.HTML object>"
            ]
          },
          "metadata": {}
        },
        {
          "output_type": "stream",
          "name": "stdout",
          "text": [
            "MAE: 0.3165, MSE: 0.2196\n"
          ]
        },
        {
          "output_type": "display_data",
          "data": {
            "text/html": [
              "<br/>Waiting for W&B process to finish, PID 11629... <strong style=\"color:green\">(success).</strong>"
            ],
            "text/plain": [
              "<IPython.core.display.HTML object>"
            ]
          },
          "metadata": {}
        },
        {
          "output_type": "display_data",
          "data": {
            "application/vnd.jupyter.widget-view+json": {
              "model_id": "345cc5d6fd9041c9a2b08151202ede2c",
              "version_minor": 0,
              "version_major": 2
            },
            "text/plain": [
              "VBox(children=(Label(value=' 0.00MB of 0.00MB uploaded (0.00MB deduped)\\r'), FloatProgress(value=1.0, max=1.0)…"
            ]
          },
          "metadata": {}
        },
        {
          "output_type": "display_data",
          "data": {
            "text/html": [
              "<style>\n",
              "    table.wandb td:nth-child(1) { padding: 0 10px; text-align: right }\n",
              "    .wandb-row { display: flex; flex-direction: row; flex-wrap: wrap; width: 100% }\n",
              "    .wandb-col { display: flex; flex-direction: column; flex-basis: 100%; flex: 1; padding: 10px; }\n",
              "    </style>\n",
              "<div class=\"wandb-row\"><div class=\"wandb-col\">\n",
              "<h3>Run history:</h3><br/><table class=\"wandb\"><tr><td>mae</td><td>▁</td></tr><tr><td>mse</td><td>▁</td></tr></table><br/></div><div class=\"wandb-col\">\n",
              "<h3>Run summary:</h3><br/><table class=\"wandb\"><tr><td>mae</td><td>0.31653</td></tr><tr><td>mse</td><td>0.21956</td></tr></table>\n",
              "</div></div>\n",
              "Synced 5 W&B file(s), 0 media file(s), 0 artifact file(s) and 0 other file(s)\n",
              "<br/>Synced <strong style=\"color:#cdcd00\">eager-sweep-27</strong>: <a href=\"https://wandb.ai/clau/california-housing-sweeps/runs/yghdpee2\" target=\"_blank\">https://wandb.ai/clau/california-housing-sweeps/runs/yghdpee2</a><br/>\n",
              "Find logs at: <code>./wandb/run-20211013_233254-yghdpee2/logs</code><br/>\n"
            ],
            "text/plain": [
              "<IPython.core.display.HTML object>"
            ]
          },
          "metadata": {}
        },
        {
          "output_type": "stream",
          "name": "stderr",
          "text": [
            "\u001b[34m\u001b[1mwandb\u001b[0m: Agent Starting Run: oq51bp90 with config:\n",
            "\u001b[34m\u001b[1mwandb\u001b[0m: \tmax_depth: 6\n",
            "\u001b[34m\u001b[1mwandb\u001b[0m: \tn_estimators: 100\n",
            "\u001b[34m\u001b[1mwandb\u001b[0m: \tnum_leaves: 31\n"
          ]
        },
        {
          "output_type": "display_data",
          "data": {
            "text/html": [
              "\n",
              "                    Syncing run <strong><a href=\"https://wandb.ai/clau/california-housing-sweeps/runs/oq51bp90\" target=\"_blank\">eternal-sweep-28</a></strong> to <a href=\"https://wandb.ai/clau/california-housing-sweeps\" target=\"_blank\">Weights & Biases</a> (<a href=\"https://docs.wandb.com/integrations/jupyter.html\" target=\"_blank\">docs</a>).<br/>\n",
              "Sweep page: <a href=\"https://wandb.ai/clau/california-housing-sweeps/sweeps/zhlex3q9\" target=\"_blank\">https://wandb.ai/clau/california-housing-sweeps/sweeps/zhlex3q9</a><br/>\n",
              "\n",
              "                "
            ],
            "text/plain": [
              "<IPython.core.display.HTML object>"
            ]
          },
          "metadata": {}
        },
        {
          "output_type": "stream",
          "name": "stdout",
          "text": [
            "MAE: 0.3141, MSE: 0.218\n"
          ]
        },
        {
          "output_type": "display_data",
          "data": {
            "text/html": [
              "<br/>Waiting for W&B process to finish, PID 11665... <strong style=\"color:green\">(success).</strong>"
            ],
            "text/plain": [
              "<IPython.core.display.HTML object>"
            ]
          },
          "metadata": {}
        },
        {
          "output_type": "display_data",
          "data": {
            "application/vnd.jupyter.widget-view+json": {
              "model_id": "54a6229abf204d07a54788be07b2908f",
              "version_minor": 0,
              "version_major": 2
            },
            "text/plain": [
              "VBox(children=(Label(value=' 0.00MB of 0.00MB uploaded (0.00MB deduped)\\r'), FloatProgress(value=1.0, max=1.0)…"
            ]
          },
          "metadata": {}
        },
        {
          "output_type": "display_data",
          "data": {
            "text/html": [
              "<style>\n",
              "    table.wandb td:nth-child(1) { padding: 0 10px; text-align: right }\n",
              "    .wandb-row { display: flex; flex-direction: row; flex-wrap: wrap; width: 100% }\n",
              "    .wandb-col { display: flex; flex-direction: column; flex-basis: 100%; flex: 1; padding: 10px; }\n",
              "    </style>\n",
              "<div class=\"wandb-row\"><div class=\"wandb-col\">\n",
              "<h3>Run history:</h3><br/><table class=\"wandb\"><tr><td>mae</td><td>▁</td></tr><tr><td>mse</td><td>▁</td></tr></table><br/></div><div class=\"wandb-col\">\n",
              "<h3>Run summary:</h3><br/><table class=\"wandb\"><tr><td>mae</td><td>0.3141</td></tr><tr><td>mse</td><td>0.218</td></tr></table>\n",
              "</div></div>\n",
              "Synced 5 W&B file(s), 0 media file(s), 0 artifact file(s) and 0 other file(s)\n",
              "<br/>Synced <strong style=\"color:#cdcd00\">eternal-sweep-28</strong>: <a href=\"https://wandb.ai/clau/california-housing-sweeps/runs/oq51bp90\" target=\"_blank\">https://wandb.ai/clau/california-housing-sweeps/runs/oq51bp90</a><br/>\n",
              "Find logs at: <code>./wandb/run-20211013_233301-oq51bp90/logs</code><br/>\n"
            ],
            "text/plain": [
              "<IPython.core.display.HTML object>"
            ]
          },
          "metadata": {}
        },
        {
          "output_type": "stream",
          "name": "stderr",
          "text": [
            "\u001b[34m\u001b[1mwandb\u001b[0m: Agent Starting Run: q8shytss with config:\n",
            "\u001b[34m\u001b[1mwandb\u001b[0m: \tmax_depth: 6\n",
            "\u001b[34m\u001b[1mwandb\u001b[0m: \tn_estimators: 100\n",
            "\u001b[34m\u001b[1mwandb\u001b[0m: \tnum_leaves: 63\n"
          ]
        },
        {
          "output_type": "display_data",
          "data": {
            "text/html": [
              "\n",
              "                    Syncing run <strong><a href=\"https://wandb.ai/clau/california-housing-sweeps/runs/q8shytss\" target=\"_blank\">glad-sweep-29</a></strong> to <a href=\"https://wandb.ai/clau/california-housing-sweeps\" target=\"_blank\">Weights & Biases</a> (<a href=\"https://docs.wandb.com/integrations/jupyter.html\" target=\"_blank\">docs</a>).<br/>\n",
              "Sweep page: <a href=\"https://wandb.ai/clau/california-housing-sweeps/sweeps/zhlex3q9\" target=\"_blank\">https://wandb.ai/clau/california-housing-sweeps/sweeps/zhlex3q9</a><br/>\n",
              "\n",
              "                "
            ],
            "text/plain": [
              "<IPython.core.display.HTML object>"
            ]
          },
          "metadata": {}
        },
        {
          "output_type": "stream",
          "name": "stdout",
          "text": [
            "MAE: 0.3108, MSE: 0.2129\n"
          ]
        },
        {
          "output_type": "display_data",
          "data": {
            "text/html": [
              "<br/>Waiting for W&B process to finish, PID 11701... <strong style=\"color:green\">(success).</strong>"
            ],
            "text/plain": [
              "<IPython.core.display.HTML object>"
            ]
          },
          "metadata": {}
        },
        {
          "output_type": "display_data",
          "data": {
            "application/vnd.jupyter.widget-view+json": {
              "model_id": "bb8ecfcfda034ed7a897ab7339d8f771",
              "version_minor": 0,
              "version_major": 2
            },
            "text/plain": [
              "VBox(children=(Label(value=' 0.00MB of 0.00MB uploaded (0.00MB deduped)\\r'), FloatProgress(value=1.0, max=1.0)…"
            ]
          },
          "metadata": {}
        },
        {
          "output_type": "display_data",
          "data": {
            "text/html": [
              "<style>\n",
              "    table.wandb td:nth-child(1) { padding: 0 10px; text-align: right }\n",
              "    .wandb-row { display: flex; flex-direction: row; flex-wrap: wrap; width: 100% }\n",
              "    .wandb-col { display: flex; flex-direction: column; flex-basis: 100%; flex: 1; padding: 10px; }\n",
              "    </style>\n",
              "<div class=\"wandb-row\"><div class=\"wandb-col\">\n",
              "<h3>Run history:</h3><br/><table class=\"wandb\"><tr><td>mae</td><td>▁</td></tr><tr><td>mse</td><td>▁</td></tr></table><br/></div><div class=\"wandb-col\">\n",
              "<h3>Run summary:</h3><br/><table class=\"wandb\"><tr><td>mae</td><td>0.31082</td></tr><tr><td>mse</td><td>0.21285</td></tr></table>\n",
              "</div></div>\n",
              "Synced 5 W&B file(s), 0 media file(s), 0 artifact file(s) and 0 other file(s)\n",
              "<br/>Synced <strong style=\"color:#cdcd00\">glad-sweep-29</strong>: <a href=\"https://wandb.ai/clau/california-housing-sweeps/runs/q8shytss\" target=\"_blank\">https://wandb.ai/clau/california-housing-sweeps/runs/q8shytss</a><br/>\n",
              "Find logs at: <code>./wandb/run-20211013_233309-q8shytss/logs</code><br/>\n"
            ],
            "text/plain": [
              "<IPython.core.display.HTML object>"
            ]
          },
          "metadata": {}
        },
        {
          "output_type": "stream",
          "name": "stderr",
          "text": [
            "\u001b[34m\u001b[1mwandb\u001b[0m: Agent Starting Run: 5acgv52j with config:\n",
            "\u001b[34m\u001b[1mwandb\u001b[0m: \tmax_depth: 6\n",
            "\u001b[34m\u001b[1mwandb\u001b[0m: \tn_estimators: 100\n",
            "\u001b[34m\u001b[1mwandb\u001b[0m: \tnum_leaves: 100\n"
          ]
        },
        {
          "output_type": "display_data",
          "data": {
            "text/html": [
              "\n",
              "                    Syncing run <strong><a href=\"https://wandb.ai/clau/california-housing-sweeps/runs/5acgv52j\" target=\"_blank\">balmy-sweep-30</a></strong> to <a href=\"https://wandb.ai/clau/california-housing-sweeps\" target=\"_blank\">Weights & Biases</a> (<a href=\"https://docs.wandb.com/integrations/jupyter.html\" target=\"_blank\">docs</a>).<br/>\n",
              "Sweep page: <a href=\"https://wandb.ai/clau/california-housing-sweeps/sweeps/zhlex3q9\" target=\"_blank\">https://wandb.ai/clau/california-housing-sweeps/sweeps/zhlex3q9</a><br/>\n",
              "\n",
              "                "
            ],
            "text/plain": [
              "<IPython.core.display.HTML object>"
            ]
          },
          "metadata": {}
        },
        {
          "output_type": "stream",
          "name": "stdout",
          "text": [
            "MAE: 0.3098, MSE: 0.2133\n"
          ]
        },
        {
          "output_type": "display_data",
          "data": {
            "text/html": [
              "<br/>Waiting for W&B process to finish, PID 11737... <strong style=\"color:green\">(success).</strong>"
            ],
            "text/plain": [
              "<IPython.core.display.HTML object>"
            ]
          },
          "metadata": {}
        },
        {
          "output_type": "display_data",
          "data": {
            "application/vnd.jupyter.widget-view+json": {
              "model_id": "1fc73f1312cf4087b1b1f0b20820bbd5",
              "version_minor": 0,
              "version_major": 2
            },
            "text/plain": [
              "VBox(children=(Label(value=' 0.00MB of 0.00MB uploaded (0.00MB deduped)\\r'), FloatProgress(value=1.0, max=1.0)…"
            ]
          },
          "metadata": {}
        },
        {
          "output_type": "display_data",
          "data": {
            "text/html": [
              "<style>\n",
              "    table.wandb td:nth-child(1) { padding: 0 10px; text-align: right }\n",
              "    .wandb-row { display: flex; flex-direction: row; flex-wrap: wrap; width: 100% }\n",
              "    .wandb-col { display: flex; flex-direction: column; flex-basis: 100%; flex: 1; padding: 10px; }\n",
              "    </style>\n",
              "<div class=\"wandb-row\"><div class=\"wandb-col\">\n",
              "<h3>Run history:</h3><br/><table class=\"wandb\"><tr><td>mae</td><td>▁</td></tr><tr><td>mse</td><td>▁</td></tr></table><br/></div><div class=\"wandb-col\">\n",
              "<h3>Run summary:</h3><br/><table class=\"wandb\"><tr><td>mae</td><td>0.30979</td></tr><tr><td>mse</td><td>0.21332</td></tr></table>\n",
              "</div></div>\n",
              "Synced 5 W&B file(s), 0 media file(s), 0 artifact file(s) and 0 other file(s)\n",
              "<br/>Synced <strong style=\"color:#cdcd00\">balmy-sweep-30</strong>: <a href=\"https://wandb.ai/clau/california-housing-sweeps/runs/5acgv52j\" target=\"_blank\">https://wandb.ai/clau/california-housing-sweeps/runs/5acgv52j</a><br/>\n",
              "Find logs at: <code>./wandb/run-20211013_233317-5acgv52j/logs</code><br/>\n"
            ],
            "text/plain": [
              "<IPython.core.display.HTML object>"
            ]
          },
          "metadata": {}
        },
        {
          "output_type": "stream",
          "name": "stderr",
          "text": [
            "\u001b[34m\u001b[1mwandb\u001b[0m: Agent Starting Run: 0xas6irg with config:\n",
            "\u001b[34m\u001b[1mwandb\u001b[0m: \tmax_depth: 6\n",
            "\u001b[34m\u001b[1mwandb\u001b[0m: \tn_estimators: 200\n",
            "\u001b[34m\u001b[1mwandb\u001b[0m: \tnum_leaves: 15\n"
          ]
        },
        {
          "output_type": "display_data",
          "data": {
            "text/html": [
              "\n",
              "                    Syncing run <strong><a href=\"https://wandb.ai/clau/california-housing-sweeps/runs/0xas6irg\" target=\"_blank\">wise-sweep-31</a></strong> to <a href=\"https://wandb.ai/clau/california-housing-sweeps\" target=\"_blank\">Weights & Biases</a> (<a href=\"https://docs.wandb.com/integrations/jupyter.html\" target=\"_blank\">docs</a>).<br/>\n",
              "Sweep page: <a href=\"https://wandb.ai/clau/california-housing-sweeps/sweeps/zhlex3q9\" target=\"_blank\">https://wandb.ai/clau/california-housing-sweeps/sweeps/zhlex3q9</a><br/>\n",
              "\n",
              "                "
            ],
            "text/plain": [
              "<IPython.core.display.HTML object>"
            ]
          },
          "metadata": {}
        },
        {
          "output_type": "stream",
          "name": "stdout",
          "text": [
            "MAE: 0.3103, MSE: 0.212\n"
          ]
        },
        {
          "output_type": "display_data",
          "data": {
            "text/html": [
              "<br/>Waiting for W&B process to finish, PID 11773... <strong style=\"color:green\">(success).</strong>"
            ],
            "text/plain": [
              "<IPython.core.display.HTML object>"
            ]
          },
          "metadata": {}
        },
        {
          "output_type": "display_data",
          "data": {
            "application/vnd.jupyter.widget-view+json": {
              "model_id": "1788f0b46ed1408198311753f51b1a7b",
              "version_minor": 0,
              "version_major": 2
            },
            "text/plain": [
              "VBox(children=(Label(value=' 0.00MB of 0.00MB uploaded (0.00MB deduped)\\r'), FloatProgress(value=1.0, max=1.0)…"
            ]
          },
          "metadata": {}
        },
        {
          "output_type": "display_data",
          "data": {
            "text/html": [
              "<style>\n",
              "    table.wandb td:nth-child(1) { padding: 0 10px; text-align: right }\n",
              "    .wandb-row { display: flex; flex-direction: row; flex-wrap: wrap; width: 100% }\n",
              "    .wandb-col { display: flex; flex-direction: column; flex-basis: 100%; flex: 1; padding: 10px; }\n",
              "    </style>\n",
              "<div class=\"wandb-row\"><div class=\"wandb-col\">\n",
              "<h3>Run history:</h3><br/><table class=\"wandb\"><tr><td>mae</td><td>▁</td></tr><tr><td>mse</td><td>▁</td></tr></table><br/></div><div class=\"wandb-col\">\n",
              "<h3>Run summary:</h3><br/><table class=\"wandb\"><tr><td>mae</td><td>0.31031</td></tr><tr><td>mse</td><td>0.21198</td></tr></table>\n",
              "</div></div>\n",
              "Synced 5 W&B file(s), 0 media file(s), 0 artifact file(s) and 0 other file(s)\n",
              "<br/>Synced <strong style=\"color:#cdcd00\">wise-sweep-31</strong>: <a href=\"https://wandb.ai/clau/california-housing-sweeps/runs/0xas6irg\" target=\"_blank\">https://wandb.ai/clau/california-housing-sweeps/runs/0xas6irg</a><br/>\n",
              "Find logs at: <code>./wandb/run-20211013_233325-0xas6irg/logs</code><br/>\n"
            ],
            "text/plain": [
              "<IPython.core.display.HTML object>"
            ]
          },
          "metadata": {}
        }
      ]
    },
    {
      "cell_type": "markdown",
      "metadata": {
        "id": "-EhqWbmt20kD"
      },
      "source": [
        "# Visualizations"
      ]
    },
    {
      "cell_type": "markdown",
      "metadata": {
        "id": "i6KtKfSJ3Ad2"
      },
      "source": [
        "## Hyperparameter Importance Plot"
      ]
    },
    {
      "cell_type": "markdown",
      "metadata": {
        "id": "DG43MvZ_253L"
      },
      "source": [
        "![Screen Shot 2021-10-14 at 2.35.54 PM.png](data:image/png;base64,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)"
      ]
    },
    {
      "cell_type": "markdown",
      "metadata": {
        "id": "z37dXbMT2-D9"
      },
      "source": [
        "## Parallel Coordinate Plot"
      ]
    },
    {
      "cell_type": "markdown",
      "metadata": {
        "id": "GUlvqFVl2xOH"
      },
      "source": [
        "![Screen Shot 2021-10-14 at 2.48.10 PM.png](data:image/png;base64,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)"
      ]
    },
    {
      "cell_type": "code",
      "metadata": {
        "id": "k-OeihoW2zf-"
      },
      "source": [
        ""
      ],
      "execution_count": null,
      "outputs": []
    }
  ]
}